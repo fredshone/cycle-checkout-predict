{
 "cells": [
  {
   "cell_type": "code",
   "execution_count": 5,
   "metadata": {},
   "outputs": [
    {
     "name": "stderr",
     "output_type": "stream",
     "text": [
      "/Users/fredshone/tensorflow/lib/python3.6/site-packages/h5py/__init__.py:36: FutureWarning: Conversion of the second argument of issubdtype from `float` to `np.floating` is deprecated. In future, it will be treated as `np.float64 == np.dtype(float).type`.\n",
      "  from ._conv import register_converters as _register_converters\n",
      "Using TensorFlow backend.\n"
     ]
    }
   ],
   "source": [
    "import pandas as pd\n",
    "import numpy as np\n",
    "import os\n",
    "from matplotlib import pyplot as plt\n",
    "from keras.models import Sequential\n",
    "from keras import layers\n",
    "from keras.optimizers import RMSprop"
   ]
  },
  {
   "cell_type": "markdown",
   "metadata": {
    "collapsed": true
   },
   "source": [
    "## Predicting Bike Checkout - With Weather Forecast\n",
    "Training of a variety of models for predicting bike checkouts (currently set up for three hours into the future). In this workbook it is assumed that weather data is known up to and including the time of prediction (ie it is assumed that there is good forecast data)\n",
    "#### Methodology\n",
    "Three years of data are used for training and validation. There is currently no test. Intention is to wait for new data. 2015 and 2016 data is used for training. 2017 data is used for validation. This is a large validation set but provides validation against a wide variety of seasonal variation.\n",
    "Data is standardised to mean of zero and single standard deviation.\n",
    "Mean Absolute Error is used to compare senarios.\n",
    "\n",
    "          -------time---------------------------------------->\n",
    "          \n",
    "raw data------------------1---1---1---0---2---1---4---1---4---4---6---5---2---2---1---0---0---1--\n",
    "\n",
    "          \n",
    "known data---------------1---1---1---0---2---1---4---1---4---4---6---5---2---2-----------------\n",
    "\n",
    "          \n",
    "unknown data------------1---1---1---0---2---1---4---1---4-------------------------------\n",
    "\n",
    "          -------time---------------------------------------->\n",
    "                ^                          ^              ^\n",
    "                |                          |              |\n",
    "                |   <----lookback----->    |  <--delay--> |\n",
    "                |   <------------known data-------------> |\n",
    "                |   <--unknown data--->    |              |\n",
    "                |                          |              |\n",
    "                                time of prediction    prediction\n",
    "#### Benchmarking\n",
    "Two simple benchmarks are created: prediction using previous day and prediction using previos same-day. MAEs are around 0.3 standard deviations - approx. ten checkout counts.\n",
    "#### Results\n",
    "A simple fully connected model offers no improvement over the benchmarks.\n",
    "A number of recurrent networks (GRU and LSTM) are trained - best validation MAE is approx. 0.17 standard deviations or six checkout counts.\n",
    "#### Notes\n",
    "Better performance is achieved with heavier models with larger, more complex and more layers, but improvements are minor.\n",
    "Need to try different periods of lookback."
   ]
  },
  {
   "cell_type": "code",
   "execution_count": 1,
   "metadata": {
    "collapsed": true
   },
   "outputs": [],
   "source": [
    "def standardise(_array):\n",
    "    array = _array.copy()\n",
    "    mean = array.mean(axis=0)\n",
    "    array -= mean\n",
    "    std = array.std(axis=0)\n",
    "    array /= std\n",
    "    return array"
   ]
  },
  {
   "cell_type": "code",
   "execution_count": 2,
   "metadata": {
    "collapsed": true
   },
   "outputs": [],
   "source": [
    "def split(df):\n",
    "    y = np.array(df['Checkout_count'],\n",
    "                 dtype='float64')\n",
    "    Xk = np.array(df[['month', 'weekday', 'hour',\n",
    "                      'Holiday', 'Teaching_term', 'Study_Holidays', 'Exam_Period', 'Holidays_Period',\n",
    "                      'rain', 'temp', 'humidity', 'wind_speed', 'visibility', 'cloud_amount']],\n",
    "                  dtype='float64')\n",
    "    Xu = np.array(df[['Checkout_count']],\n",
    "                  dtype='float64')\n",
    "    return Xk, Xu, y   "
   ]
  },
  {
   "cell_type": "code",
   "execution_count": null,
   "metadata": {
    "collapsed": true
   },
   "outputs": [],
   "source": [
    "\n"
   ]
  },
  {
   "cell_type": "code",
   "execution_count": 3,
   "metadata": {
    "collapsed": true
   },
   "outputs": [],
   "source": [
    "def generator(_y, _Xk, _Xu, lookback, delay, batch_size=128, step=1):\n",
    "    \"\"\"Method to generate batches of \"\"\"\n",
    "    max_index = len(_y) - delay - 1\n",
    "    i = lookback - 1\n",
    "    while True:\n",
    "        end_index = min(i + batch_size, max_index)       \n",
    "        rows = np.arange(i, end_index)\n",
    "        length = len(rows)     \n",
    "        #print('{}-->{} ({})'.format(i, end_index, length))          \n",
    "        i += length        \n",
    "        if i >= max_index:\n",
    "            #print('> all data seen')\n",
    "            i = lookback    \n",
    "        y = np.zeros((len(rows),))\n",
    "        Xk = np.zeros((len(rows),\n",
    "                      (lookback + delay) // step,\n",
    "                      _Xk.shape[-1]))\n",
    "        Xu = np.zeros((len(rows),\n",
    "                       (lookback + delay) // step,\n",
    "                       _Xu.shape[-1]))\n",
    "        for j, row in enumerate(rows):\n",
    "            y[j] = _y[rows[j] + delay]\n",
    "            known_indices = range(rows[j] - lookback, rows[j] + delay, step)\n",
    "            Xk[j] = _Xk[known_indices]\n",
    "            unknown_indices = range(rows[j] - lookback, rows[j], step)\n",
    "            Xu[j,:(lookback//step)] = _Xu[unknown_indices]\n",
    "        X = np.concatenate((Xu, Xk), axis=2)\n",
    "            \n",
    "        yield X, y    "
   ]
  },
  {
   "cell_type": "code",
   "execution_count": 6,
   "metadata": {},
   "outputs": [],
   "source": [
    "df_raw = pd.read_csv(os.path.join('data', 'bike_share_hours.csv'))\n",
    "df = df_raw.drop('date', axis=1)"
   ]
  },
  {
   "cell_type": "code",
   "execution_count": 7,
   "metadata": {
    "collapsed": true
   },
   "outputs": [],
   "source": [
    "mean = df.mean(axis=0)\n",
    "std = df.std(axis=0)\n",
    "df_standardised = standardise(df)"
   ]
  },
  {
   "cell_type": "code",
   "execution_count": 8,
   "metadata": {
    "collapsed": true
   },
   "outputs": [],
   "source": [
    "lookback = 7 * 24\n",
    "delay = 3\n",
    "step = 1\n",
    "batch_size = 128"
   ]
  },
  {
   "cell_type": "code",
   "execution_count": 9,
   "metadata": {},
   "outputs": [
    {
     "data": {
      "text/html": [
       "<div>\n",
       "<style scoped>\n",
       "    .dataframe tbody tr th:only-of-type {\n",
       "        vertical-align: middle;\n",
       "    }\n",
       "\n",
       "    .dataframe tbody tr th {\n",
       "        vertical-align: top;\n",
       "    }\n",
       "\n",
       "    .dataframe thead th {\n",
       "        text-align: right;\n",
       "    }\n",
       "</style>\n",
       "<table border=\"1\" class=\"dataframe\">\n",
       "  <thead>\n",
       "    <tr style=\"text-align: right;\">\n",
       "      <th></th>\n",
       "      <th>Unnamed: 0</th>\n",
       "      <th>year</th>\n",
       "      <th>month</th>\n",
       "      <th>day</th>\n",
       "      <th>weekday</th>\n",
       "      <th>week</th>\n",
       "      <th>hour</th>\n",
       "      <th>Checkout_count</th>\n",
       "      <th>rain</th>\n",
       "      <th>temp</th>\n",
       "      <th>humidity</th>\n",
       "      <th>wind_speed</th>\n",
       "      <th>wind_direction</th>\n",
       "      <th>visibility</th>\n",
       "      <th>cloud_amount</th>\n",
       "      <th>Holiday</th>\n",
       "      <th>Teaching_term</th>\n",
       "      <th>Study_Holidays</th>\n",
       "      <th>Exam_Period</th>\n",
       "      <th>Holidays_Period</th>\n",
       "    </tr>\n",
       "  </thead>\n",
       "  <tbody>\n",
       "    <tr>\n",
       "      <th>count</th>\n",
       "      <td>2.629800e+04</td>\n",
       "      <td>2.629800e+04</td>\n",
       "      <td>2.629800e+04</td>\n",
       "      <td>2.629800e+04</td>\n",
       "      <td>2.629800e+04</td>\n",
       "      <td>2.629800e+04</td>\n",
       "      <td>2.629800e+04</td>\n",
       "      <td>2.629800e+04</td>\n",
       "      <td>2.629800e+04</td>\n",
       "      <td>2.629800e+04</td>\n",
       "      <td>2.629800e+04</td>\n",
       "      <td>2.629800e+04</td>\n",
       "      <td>2.629800e+04</td>\n",
       "      <td>2.629800e+04</td>\n",
       "      <td>2.629800e+04</td>\n",
       "      <td>2.629800e+04</td>\n",
       "      <td>2.629800e+04</td>\n",
       "      <td>2.629800e+04</td>\n",
       "      <td>2.629800e+04</td>\n",
       "      <td>2.629800e+04</td>\n",
       "    </tr>\n",
       "    <tr>\n",
       "      <th>mean</th>\n",
       "      <td>1.729209e-17</td>\n",
       "      <td>-1.729209e-17</td>\n",
       "      <td>8.646044e-17</td>\n",
       "      <td>5.619929e-17</td>\n",
       "      <td>-1.567096e-17</td>\n",
       "      <td>-5.187627e-17</td>\n",
       "      <td>1.293529e-17</td>\n",
       "      <td>-4.214947e-17</td>\n",
       "      <td>6.377538e-15</td>\n",
       "      <td>2.718749e-14</td>\n",
       "      <td>-3.761029e-16</td>\n",
       "      <td>3.296304e-17</td>\n",
       "      <td>8.646044e-17</td>\n",
       "      <td>3.458418e-17</td>\n",
       "      <td>-7.943553e-17</td>\n",
       "      <td>9.834875e-17</td>\n",
       "      <td>1.902130e-16</td>\n",
       "      <td>-4.971476e-17</td>\n",
       "      <td>1.383367e-16</td>\n",
       "      <td>8.646044e-18</td>\n",
       "    </tr>\n",
       "    <tr>\n",
       "      <th>std</th>\n",
       "      <td>1.000000e+00</td>\n",
       "      <td>1.000000e+00</td>\n",
       "      <td>1.000000e+00</td>\n",
       "      <td>1.000000e+00</td>\n",
       "      <td>1.000000e+00</td>\n",
       "      <td>1.000000e+00</td>\n",
       "      <td>1.000000e+00</td>\n",
       "      <td>1.000000e+00</td>\n",
       "      <td>1.000000e+00</td>\n",
       "      <td>1.000000e+00</td>\n",
       "      <td>1.000000e+00</td>\n",
       "      <td>1.000000e+00</td>\n",
       "      <td>1.000000e+00</td>\n",
       "      <td>1.000000e+00</td>\n",
       "      <td>1.000000e+00</td>\n",
       "      <td>1.000000e+00</td>\n",
       "      <td>1.000000e+00</td>\n",
       "      <td>1.000000e+00</td>\n",
       "      <td>1.000000e+00</td>\n",
       "      <td>1.000000e+00</td>\n",
       "    </tr>\n",
       "    <tr>\n",
       "      <th>min</th>\n",
       "      <td>-1.731952e+00</td>\n",
       "      <td>-1.225211e+00</td>\n",
       "      <td>-1.600997e+00</td>\n",
       "      <td>-1.673982e+00</td>\n",
       "      <td>-1.502986e+00</td>\n",
       "      <td>-1.708021e+00</td>\n",
       "      <td>-1.661831e+00</td>\n",
       "      <td>-9.968580e-01</td>\n",
       "      <td>-2.618729e-01</td>\n",
       "      <td>-2.876356e+00</td>\n",
       "      <td>-4.745870e+00</td>\n",
       "      <td>-1.886504e+00</td>\n",
       "      <td>-2.598461e+00</td>\n",
       "      <td>-1.720343e+00</td>\n",
       "      <td>-2.436319e+00</td>\n",
       "      <td>-1.677740e-01</td>\n",
       "      <td>-8.973755e-01</td>\n",
       "      <td>-1.706274e-01</td>\n",
       "      <td>-2.749181e-01</td>\n",
       "      <td>-8.976517e-01</td>\n",
       "    </tr>\n",
       "    <tr>\n",
       "      <th>25%</th>\n",
       "      <td>-8.659760e-01</td>\n",
       "      <td>-1.225211e+00</td>\n",
       "      <td>-7.311898e-01</td>\n",
       "      <td>-8.786095e-01</td>\n",
       "      <td>-1.002866e+00</td>\n",
       "      <td>-8.453565e-01</td>\n",
       "      <td>-7.949608e-01</td>\n",
       "      <td>-8.801305e-01</td>\n",
       "      <td>-2.618729e-01</td>\n",
       "      <td>-6.895556e-01</td>\n",
       "      <td>-5.246522e-01</td>\n",
       "      <td>-7.188683e-01</td>\n",
       "      <td>-6.638192e-01</td>\n",
       "      <td>-5.164802e-01</td>\n",
       "      <td>-7.393280e-01</td>\n",
       "      <td>-1.677740e-01</td>\n",
       "      <td>-8.973755e-01</td>\n",
       "      <td>-1.706274e-01</td>\n",
       "      <td>-2.749181e-01</td>\n",
       "      <td>-8.976517e-01</td>\n",
       "    </tr>\n",
       "    <tr>\n",
       "      <th>50%</th>\n",
       "      <td>0.000000e+00</td>\n",
       "      <td>0.000000e+00</td>\n",
       "      <td>1.386175e-01</td>\n",
       "      <td>3.038716e-02</td>\n",
       "      <td>-2.624407e-03</td>\n",
       "      <td>1.730758e-02</td>\n",
       "      <td>7.190957e-02</td>\n",
       "      <td>-2.381290e-01</td>\n",
       "      <td>-2.618729e-01</td>\n",
       "      <td>8.640569e-02</td>\n",
       "      <td>2.351670e-01</td>\n",
       "      <td>-1.350505e-01</td>\n",
       "      <td>1.825865e-01</td>\n",
       "      <td>8.847620e-02</td>\n",
       "      <td>5.334151e-01</td>\n",
       "      <td>-1.677740e-01</td>\n",
       "      <td>-8.973755e-01</td>\n",
       "      <td>-1.706274e-01</td>\n",
       "      <td>-2.749181e-01</td>\n",
       "      <td>-8.976517e-01</td>\n",
       "    </tr>\n",
       "    <tr>\n",
       "      <th>75%</th>\n",
       "      <td>8.659760e-01</td>\n",
       "      <td>1.225211e+00</td>\n",
       "      <td>1.008425e+00</td>\n",
       "      <td>8.257592e-01</td>\n",
       "      <td>9.976168e-01</td>\n",
       "      <td>8.799717e-01</td>\n",
       "      <td>9.387800e-01</td>\n",
       "      <td>5.497819e-01</td>\n",
       "      <td>-2.618729e-01</td>\n",
       "      <td>7.212832e-01</td>\n",
       "      <td>8.261376e-01</td>\n",
       "      <td>6.433732e-01</td>\n",
       "      <td>7.871619e-01</td>\n",
       "      <td>6.934326e-01</td>\n",
       "      <td>5.334151e-01</td>\n",
       "      <td>-1.677740e-01</td>\n",
       "      <td>1.114318e+00</td>\n",
       "      <td>-1.706274e-01</td>\n",
       "      <td>-2.749181e-01</td>\n",
       "      <td>1.113975e+00</td>\n",
       "    </tr>\n",
       "    <tr>\n",
       "      <th>max</th>\n",
       "      <td>1.731952e+00</td>\n",
       "      <td>1.225211e+00</td>\n",
       "      <td>1.588296e+00</td>\n",
       "      <td>1.734756e+00</td>\n",
       "      <td>1.497737e+00</td>\n",
       "      <td>1.742636e+00</td>\n",
       "      <td>1.661172e+00</td>\n",
       "      <td>5.014610e+00</td>\n",
       "      <td>2.648694e+01</td>\n",
       "      <td>3.284307e+00</td>\n",
       "      <td>1.079411e+00</td>\n",
       "      <td>6.481551e+00</td>\n",
       "      <td>1.754483e+00</td>\n",
       "      <td>2.810780e+00</td>\n",
       "      <td>9.576628e-01</td>\n",
       "      <td>5.960172e+00</td>\n",
       "      <td>1.114318e+00</td>\n",
       "      <td>5.860501e+00</td>\n",
       "      <td>3.637309e+00</td>\n",
       "      <td>1.113975e+00</td>\n",
       "    </tr>\n",
       "  </tbody>\n",
       "</table>\n",
       "</div>"
      ],
      "text/plain": [
       "         Unnamed: 0          year         month           day       weekday  \\\n",
       "count  2.629800e+04  2.629800e+04  2.629800e+04  2.629800e+04  2.629800e+04   \n",
       "mean   1.729209e-17 -1.729209e-17  8.646044e-17  5.619929e-17 -1.567096e-17   \n",
       "std    1.000000e+00  1.000000e+00  1.000000e+00  1.000000e+00  1.000000e+00   \n",
       "min   -1.731952e+00 -1.225211e+00 -1.600997e+00 -1.673982e+00 -1.502986e+00   \n",
       "25%   -8.659760e-01 -1.225211e+00 -7.311898e-01 -8.786095e-01 -1.002866e+00   \n",
       "50%    0.000000e+00  0.000000e+00  1.386175e-01  3.038716e-02 -2.624407e-03   \n",
       "75%    8.659760e-01  1.225211e+00  1.008425e+00  8.257592e-01  9.976168e-01   \n",
       "max    1.731952e+00  1.225211e+00  1.588296e+00  1.734756e+00  1.497737e+00   \n",
       "\n",
       "               week          hour  Checkout_count          rain          temp  \\\n",
       "count  2.629800e+04  2.629800e+04    2.629800e+04  2.629800e+04  2.629800e+04   \n",
       "mean  -5.187627e-17  1.293529e-17   -4.214947e-17  6.377538e-15  2.718749e-14   \n",
       "std    1.000000e+00  1.000000e+00    1.000000e+00  1.000000e+00  1.000000e+00   \n",
       "min   -1.708021e+00 -1.661831e+00   -9.968580e-01 -2.618729e-01 -2.876356e+00   \n",
       "25%   -8.453565e-01 -7.949608e-01   -8.801305e-01 -2.618729e-01 -6.895556e-01   \n",
       "50%    1.730758e-02  7.190957e-02   -2.381290e-01 -2.618729e-01  8.640569e-02   \n",
       "75%    8.799717e-01  9.387800e-01    5.497819e-01 -2.618729e-01  7.212832e-01   \n",
       "max    1.742636e+00  1.661172e+00    5.014610e+00  2.648694e+01  3.284307e+00   \n",
       "\n",
       "           humidity    wind_speed  wind_direction    visibility  cloud_amount  \\\n",
       "count  2.629800e+04  2.629800e+04    2.629800e+04  2.629800e+04  2.629800e+04   \n",
       "mean  -3.761029e-16  3.296304e-17    8.646044e-17  3.458418e-17 -7.943553e-17   \n",
       "std    1.000000e+00  1.000000e+00    1.000000e+00  1.000000e+00  1.000000e+00   \n",
       "min   -4.745870e+00 -1.886504e+00   -2.598461e+00 -1.720343e+00 -2.436319e+00   \n",
       "25%   -5.246522e-01 -7.188683e-01   -6.638192e-01 -5.164802e-01 -7.393280e-01   \n",
       "50%    2.351670e-01 -1.350505e-01    1.825865e-01  8.847620e-02  5.334151e-01   \n",
       "75%    8.261376e-01  6.433732e-01    7.871619e-01  6.934326e-01  5.334151e-01   \n",
       "max    1.079411e+00  6.481551e+00    1.754483e+00  2.810780e+00  9.576628e-01   \n",
       "\n",
       "            Holiday  Teaching_term  Study_Holidays   Exam_Period  \\\n",
       "count  2.629800e+04   2.629800e+04    2.629800e+04  2.629800e+04   \n",
       "mean   9.834875e-17   1.902130e-16   -4.971476e-17  1.383367e-16   \n",
       "std    1.000000e+00   1.000000e+00    1.000000e+00  1.000000e+00   \n",
       "min   -1.677740e-01  -8.973755e-01   -1.706274e-01 -2.749181e-01   \n",
       "25%   -1.677740e-01  -8.973755e-01   -1.706274e-01 -2.749181e-01   \n",
       "50%   -1.677740e-01  -8.973755e-01   -1.706274e-01 -2.749181e-01   \n",
       "75%   -1.677740e-01   1.114318e+00   -1.706274e-01 -2.749181e-01   \n",
       "max    5.960172e+00   1.114318e+00    5.860501e+00  3.637309e+00   \n",
       "\n",
       "       Holidays_Period  \n",
       "count     2.629800e+04  \n",
       "mean      8.646044e-18  \n",
       "std       1.000000e+00  \n",
       "min      -8.976517e-01  \n",
       "25%      -8.976517e-01  \n",
       "50%      -8.976517e-01  \n",
       "75%       1.113975e+00  \n",
       "max       1.113975e+00  "
      ]
     },
     "execution_count": 9,
     "metadata": {},
     "output_type": "execute_result"
    }
   ],
   "source": [
    "df_standardised.describe()"
   ]
  },
  {
   "cell_type": "code",
   "execution_count": 10,
   "metadata": {},
   "outputs": [
    {
     "data": {
      "text/plain": [
       "17539"
      ]
     },
     "execution_count": 10,
     "metadata": {},
     "output_type": "execute_result"
    }
   ],
   "source": [
    "df_train = df_standardised[(df.year == 2015) | (df.year == 2016)]\n",
    "len(df_train)"
   ]
  },
  {
   "cell_type": "code",
   "execution_count": 11,
   "metadata": {},
   "outputs": [
    {
     "data": {
      "text/plain": [
       "8759"
      ]
     },
     "execution_count": 11,
     "metadata": {},
     "output_type": "execute_result"
    }
   ],
   "source": [
    "df_validate = df_standardised[df.year == 2017]\n",
    "len(df_validate)"
   ]
  },
  {
   "cell_type": "code",
   "execution_count": 12,
   "metadata": {
    "collapsed": true
   },
   "outputs": [],
   "source": [
    "Xk_train, Xu_train, y_train = split(df_train)\n",
    "Xk_validate, Xu_validate, y_validate = split(df_validate)"
   ]
  },
  {
   "cell_type": "code",
   "execution_count": 13,
   "metadata": {
    "collapsed": true
   },
   "outputs": [],
   "source": [
    "lookback = 7 * 24\n",
    "delay = 0\n",
    "step = 1\n",
    "batch_size = 128"
   ]
  },
  {
   "cell_type": "code",
   "execution_count": 14,
   "metadata": {
    "collapsed": true
   },
   "outputs": [],
   "source": [
    "training_gen = generator(y_train, Xk_train, Xu_train,\n",
    "                         lookback, delay)\n",
    "num_training_batches = int((len(df_train) - lookback - delay) / batch_size)\n",
    "validation_gen = generator(y_validate, Xk_validate, Xu_validate,\n",
    "                         lookback, delay)\n",
    "num_validation_samples = int((len(df_validate) - lookback - delay) / batch_size)"
   ]
  },
  {
   "cell_type": "markdown",
   "metadata": {},
   "source": [
    "## Benchmarking\n",
    "Benchmarking with some relatively naive methods:\n",
    "1. predicting using checkouts from 7 days ago\n",
    "2. pedicting using checkouts from 24 hours ago"
   ]
  },
  {
   "cell_type": "code",
   "execution_count": 15,
   "metadata": {
    "collapsed": true
   },
   "outputs": [],
   "source": [
    "def eval_naive(samples, gen, index):\n",
    "    maes = []\n",
    "    for i in range(samples):\n",
    "        X, y = next(gen)\n",
    "        preds = X[:, index, 0]\n",
    "        mae = np.mean(np.abs(preds - y))\n",
    "        maes.append(mae)\n",
    "    return np.mean(maes)"
   ]
  },
  {
   "cell_type": "code",
   "execution_count": 17,
   "metadata": {},
   "outputs": [
    {
     "data": {
      "text/plain": [
       "10.224315920397547"
      ]
     },
     "execution_count": 17,
     "metadata": {},
     "output_type": "execute_result"
    }
   ],
   "source": [
    "# Sample from 7 days ago\n",
    "eval_naive(num_validation_samples, validation_gen, delay) * df.Checkout_count.std()"
   ]
  },
  {
   "cell_type": "code",
   "execution_count": 32,
   "metadata": {},
   "outputs": [
    {
     "data": {
      "text/plain": [
       "[<matplotlib.lines.Line2D at 0x122fd5390>]"
      ]
     },
     "execution_count": 32,
     "metadata": {},
     "output_type": "execute_result"
    },
    {
     "data": {
      "image/png": "[encoded data removed]",
      "text/plain": [
       "<matplotlib.figure.Figure at 0x122aa7978>"
      ]
     },
     "metadata": {},
     "output_type": "display_data"
    }
   ],
   "source": [
    "date = '2017-08-30'\n",
    "sample = list(df_raw.index[df_raw.date == date])\n",
    "actuals = [None] * len(sample)\n",
    "preds = [None] * len(sample)\n",
    "for index in sample:\n",
    "    actual = df_raw.Checkout_count.iloc[(index)]\n",
    "    pred = df_raw.Checkout_count.iloc[(index-(24*7))]\n",
    "    actuals.append(actual)\n",
    "    preds.append(pred)\n",
    "plt.plot(actuals)\n",
    "plt.plot(preds)    "
   ]
  },
  {
   "cell_type": "code",
   "execution_count": 33,
   "metadata": {},
   "outputs": [
    {
     "data": {
      "text/plain": [
       "13.08530006218846"
      ]
     },
     "execution_count": 33,
     "metadata": {},
     "output_type": "execute_result"
    }
   ],
   "source": [
    "# Sample from 1 day ago\n",
    "eval_naive(num_validation_samples, validation_gen, -24) * df.Checkout_count.std()"
   ]
  },
  {
   "cell_type": "code",
   "execution_count": 34,
   "metadata": {},
   "outputs": [
    {
     "data": {
      "text/plain": [
       "[<matplotlib.lines.Line2D at 0x1230a8c18>]"
      ]
     },
     "execution_count": 34,
     "metadata": {},
     "output_type": "execute_result"
    },
    {
     "data": {
      "image/png": "[encoded data removed]",
      "text/plain": [
       "<matplotlib.figure.Figure at 0x122aa75f8>"
      ]
     },
     "metadata": {},
     "output_type": "display_data"
    }
   ],
   "source": [
    "date = '2017-08-30'\n",
    "sample = list(df_raw.index[df_raw.date == date])\n",
    "actuals = [None] * len(sample)\n",
    "preds = [None] * len(sample)\n",
    "for index in sample:\n",
    "    actual = df_raw.Checkout_count.iloc[(index)]\n",
    "    pred = df_raw.Checkout_count.iloc[(index-24)]\n",
    "    actuals.append(actual)\n",
    "    preds.append(pred)\n",
    "plt.plot(actuals)\n",
    "plt.plot(preds)   "
   ]
  },
  {
   "cell_type": "code",
   "execution_count": 35,
   "metadata": {
    "collapsed": true
   },
   "outputs": [],
   "source": [
    "model = Sequential()\n",
    "model.add(layers.Flatten(input_shape=((lookback + delay)// step, 15)))\n",
    "model.add(layers.Dense(32, activation='relu'))\n",
    "model.add(layers.Dense(1))"
   ]
  },
  {
   "cell_type": "code",
   "execution_count": 36,
   "metadata": {},
   "outputs": [
    {
     "name": "stdout",
     "output_type": "stream",
     "text": [
      "Epoch 1/20\n",
      "500/500 [==============================] - 11s 21ms/step - loss: 1.5890 - val_loss: 0.9964\n",
      "Epoch 2/20\n",
      "500/500 [==============================] - 9s 19ms/step - loss: 1.0019 - val_loss: 0.6459\n",
      "Epoch 3/20\n",
      "500/500 [==============================] - 9s 17ms/step - loss: 0.8234 - val_loss: 0.6868\n",
      "Epoch 4/20\n",
      "500/500 [==============================] - 9s 18ms/step - loss: 0.7614 - val_loss: 0.5836\n",
      "Epoch 5/20\n",
      "500/500 [==============================] - 9s 17ms/step - loss: 0.6515 - val_loss: 0.4570\n",
      "Epoch 6/20\n",
      "500/500 [==============================] - 9s 17ms/step - loss: 0.5877 - val_loss: 0.5710\n",
      "Epoch 7/20\n",
      "500/500 [==============================] - 9s 18ms/step - loss: 0.5665 - val_loss: 0.3978\n",
      "Epoch 8/20\n",
      "500/500 [==============================] - 9s 19ms/step - loss: 0.4996 - val_loss: 0.3801\n",
      "Epoch 9/20\n",
      "500/500 [==============================] - 9s 18ms/step - loss: 0.4931 - val_loss: 0.3737\n",
      "Epoch 10/20\n",
      "500/500 [==============================] - 9s 17ms/step - loss: 0.4794 - val_loss: 0.4248\n",
      "Epoch 11/20\n",
      "500/500 [==============================] - 9s 18ms/step - loss: 0.4383 - val_loss: 0.3426\n",
      "Epoch 12/20\n",
      "500/500 [==============================] - 9s 19ms/step - loss: 0.4169 - val_loss: 0.4174\n",
      "Epoch 13/20\n",
      "500/500 [==============================] - 9s 18ms/step - loss: 0.4280 - val_loss: 0.3994\n",
      "Epoch 14/20\n",
      "500/500 [==============================] - 9s 17ms/step - loss: 0.3998 - val_loss: 0.4437\n",
      "Epoch 15/20\n",
      "500/500 [==============================] - 9s 18ms/step - loss: 0.3776 - val_loss: 0.3311\n",
      "Epoch 16/20\n",
      "500/500 [==============================] - 9s 18ms/step - loss: 0.3834 - val_loss: 0.3719\n",
      "Epoch 17/20\n",
      "500/500 [==============================] - 9s 18ms/step - loss: 0.3768 - val_loss: 0.3134\n",
      "Epoch 18/20\n",
      "500/500 [==============================] - 9s 18ms/step - loss: 0.3701 - val_loss: 0.3275\n",
      "Epoch 19/20\n",
      "500/500 [==============================] - 10s 20ms/step - loss: 0.3494 - val_loss: 0.3133\n",
      "Epoch 20/20\n",
      "500/500 [==============================] - 10s 20ms/step - loss: 0.3528 - val_loss: 0.3305\n"
     ]
    }
   ],
   "source": [
    "model.compile(optimizer=RMSprop(),loss='mae')\n",
    "hist = model.fit_generator(training_gen,\n",
    "                          steps_per_epoch=500,\n",
    "                          epochs = 20,\n",
    "                          validation_data= validation_gen,\n",
    "                          validation_steps=num_validation_samples)"
   ]
  },
  {
   "cell_type": "code",
   "execution_count": 37,
   "metadata": {},
   "outputs": [
    {
     "data": {
      "image/png": "[encoded data removed]",
      "text/plain": [
       "<matplotlib.figure.Figure at 0x121ec7278>"
      ]
     },
     "metadata": {},
     "output_type": "display_data"
    }
   ],
   "source": [
    "loss = hist.history['loss']\n",
    "val_loss = hist.history['val_loss']\n",
    "epochs = range(1, len(loss) + 1)\n",
    "plt.figure()\n",
    "plt.plot(epochs, loss, 'bo', label='Training loss')\n",
    "plt.plot(epochs, val_loss, 'b', label='Validation loss')\n",
    "plt.title('Training and validation loss')\n",
    "plt.legend()\n",
    "plt.show()"
   ]
  },
  {
   "cell_type": "code",
   "execution_count": 38,
   "metadata": {
    "collapsed": true
   },
   "outputs": [],
   "source": [
    "model = Sequential()\n",
    "model.add(layers.GRU(32, input_shape=(None, 15)))\n",
    "model.add(layers.Dense(1))"
   ]
  },
  {
   "cell_type": "code",
   "execution_count": 39,
   "metadata": {},
   "outputs": [
    {
     "name": "stdout",
     "output_type": "stream",
     "text": [
      "Epoch 1/20\n",
      "500/500 [==============================] - 71s 142ms/step - loss: 0.3446 - val_loss: 0.3168\n",
      "Epoch 2/20\n",
      "500/500 [==============================] - 66s 133ms/step - loss: 0.2866 - val_loss: 0.2869\n",
      "Epoch 3/20\n",
      "500/500 [==============================] - 66s 131ms/step - loss: 0.2594 - val_loss: 0.2865\n",
      "Epoch 4/20\n",
      "500/500 [==============================] - 66s 132ms/step - loss: 0.2415 - val_loss: 0.2614\n",
      "Epoch 5/20\n",
      "500/500 [==============================] - 57s 115ms/step - loss: 0.2199 - val_loss: 0.2138\n",
      "Epoch 6/20\n",
      "500/500 [==============================] - 56s 111ms/step - loss: 0.1950 - val_loss: 0.2133\n",
      "Epoch 7/20\n",
      "500/500 [==============================] - 55s 109ms/step - loss: 0.1823 - val_loss: 0.2037\n",
      "Epoch 8/20\n",
      "500/500 [==============================] - 55s 110ms/step - loss: 0.1786 - val_loss: 0.1912\n",
      "Epoch 9/20\n",
      "500/500 [==============================] - 55s 110ms/step - loss: 0.1736 - val_loss: 0.1996\n",
      "Epoch 10/20\n",
      "500/500 [==============================] - 54s 109ms/step - loss: 0.1689 - val_loss: 0.2148\n",
      "Epoch 11/20\n",
      "500/500 [==============================] - 55s 110ms/step - loss: 0.1676 - val_loss: 0.1862\n",
      "Epoch 12/20\n",
      "500/500 [==============================] - 55s 110ms/step - loss: 0.1654 - val_loss: 0.1881\n",
      "Epoch 13/20\n",
      "500/500 [==============================] - 55s 109ms/step - loss: 0.1630 - val_loss: 0.2235\n",
      "Epoch 14/20\n",
      "500/500 [==============================] - 55s 109ms/step - loss: 0.1617 - val_loss: 0.1852\n",
      "Epoch 15/20\n",
      "500/500 [==============================] - 55s 110ms/step - loss: 0.1618 - val_loss: 0.1824\n",
      "Epoch 16/20\n",
      "500/500 [==============================] - 55s 109ms/step - loss: 0.1599 - val_loss: 0.2137\n",
      "Epoch 17/20\n",
      "500/500 [==============================] - 56s 111ms/step - loss: 0.1576 - val_loss: 0.1852\n",
      "Epoch 18/20\n",
      "500/500 [==============================] - 66s 131ms/step - loss: 0.1587 - val_loss: 0.1911\n",
      "Epoch 19/20\n",
      "500/500 [==============================] - 69s 139ms/step - loss: 0.1573 - val_loss: 0.2007\n",
      "Epoch 20/20\n",
      "500/500 [==============================] - 87s 175ms/step - loss: 0.1550 - val_loss: 0.1898\n"
     ]
    }
   ],
   "source": [
    "model.compile(optimizer=RMSprop(),loss='mae')\n",
    "hist = model.fit_generator(training_gen,\n",
    "                          steps_per_epoch=500,\n",
    "                          epochs = 20,\n",
    "                          validation_data= validation_gen,\n",
    "                          validation_steps=num_validation_samples)"
   ]
  },
  {
   "cell_type": "code",
   "execution_count": 40,
   "metadata": {},
   "outputs": [
    {
     "data": {
      "image/png": "[encoded data removed]",
      "text/plain": [
       "<matplotlib.figure.Figure at 0x1269f09e8>"
      ]
     },
     "metadata": {},
     "output_type": "display_data"
    }
   ],
   "source": [
    "loss = hist.history['loss']\n",
    "val_loss = hist.history['val_loss']\n",
    "epochs = range(1, len(loss) + 1)\n",
    "plt.figure()\n",
    "plt.plot(epochs, loss, 'bo', label='Training loss')\n",
    "plt.plot(epochs, val_loss, 'b', label='Validation loss')\n",
    "plt.title('Training and validation loss')\n",
    "plt.legend()\n",
    "plt.show()"
   ]
  },
  {
   "cell_type": "code",
   "execution_count": 41,
   "metadata": {
    "collapsed": true
   },
   "outputs": [],
   "source": [
    "model = Sequential()\n",
    "model.add(layers.GRU(32,\n",
    "                     dropout=0.1,\n",
    "                     recurrent_dropout=0.5,\n",
    "                     return_sequences=True,\n",
    "                     input_shape=(None, 15)))\n",
    "model.add(layers.GRU(64, activation='relu',\n",
    "                    dropout=0.1,\n",
    "                    recurrent_dropout=0.5))\n",
    "model.add(layers.Dense(1))"
   ]
  },
  {
   "cell_type": "code",
   "execution_count": 42,
   "metadata": {},
   "outputs": [
    {
     "name": "stdout",
     "output_type": "stream",
     "text": [
      "Epoch 1/40\n",
      "500/500 [==============================] - 201s 403ms/step - loss: 0.4134 - val_loss: 0.3071\n",
      "Epoch 2/40\n",
      "500/500 [==============================] - 187s 374ms/step - loss: 0.3208 - val_loss: 0.2752\n",
      "Epoch 3/40\n",
      "500/500 [==============================] - 186s 371ms/step - loss: 0.2906 - val_loss: 0.2730\n",
      "Epoch 4/40\n",
      "500/500 [==============================] - 185s 370ms/step - loss: 0.2748 - val_loss: 0.2495\n",
      "Epoch 5/40\n",
      "500/500 [==============================] - 186s 373ms/step - loss: 0.2602 - val_loss: 0.2134\n",
      "Epoch 6/40\n",
      "500/500 [==============================] - 182s 364ms/step - loss: 0.2484 - val_loss: 0.2205\n",
      "Epoch 7/40\n",
      "500/500 [==============================] - 180s 360ms/step - loss: 0.2442 - val_loss: 0.2142\n",
      "Epoch 8/40\n",
      "500/500 [==============================] - 182s 364ms/step - loss: 0.2379 - val_loss: 0.2168\n",
      "Epoch 9/40\n",
      "500/500 [==============================] - 182s 364ms/step - loss: 0.2322 - val_loss: 0.2067\n",
      "Epoch 10/40\n",
      "500/500 [==============================] - 185s 371ms/step - loss: 0.2314 - val_loss: 0.2110\n",
      "Epoch 11/40\n",
      "500/500 [==============================] - 182s 363ms/step - loss: 0.2265 - val_loss: 0.1921\n",
      "Epoch 12/40\n",
      "500/500 [==============================] - 182s 364ms/step - loss: 0.2225 - val_loss: 0.2045\n",
      "Epoch 13/40\n",
      "500/500 [==============================] - 180s 359ms/step - loss: 0.2220 - val_loss: 0.1842\n",
      "Epoch 14/40\n",
      "500/500 [==============================] - 181s 361ms/step - loss: 0.2190 - val_loss: 0.1977\n",
      "Epoch 15/40\n",
      "500/500 [==============================] - 181s 361ms/step - loss: 0.2150 - val_loss: 0.2196\n",
      "Epoch 16/40\n",
      "500/500 [==============================] - 185s 370ms/step - loss: 0.2164 - val_loss: 0.2218\n",
      "Epoch 17/40\n",
      "500/500 [==============================] - 183s 365ms/step - loss: 0.2131 - val_loss: 0.1849\n",
      "Epoch 18/40\n",
      "500/500 [==============================] - 185s 371ms/step - loss: 0.2108 - val_loss: 0.2359\n",
      "Epoch 19/40\n",
      "500/500 [==============================] - 185s 370ms/step - loss: 0.2104 - val_loss: 0.2528\n",
      "Epoch 20/40\n",
      "500/500 [==============================] - 189s 378ms/step - loss: 0.2088 - val_loss: 0.1875\n",
      "Epoch 21/40\n",
      "500/500 [==============================] - 187s 373ms/step - loss: 0.2069 - val_loss: 0.2250\n",
      "Epoch 22/40\n",
      "500/500 [==============================] - 184s 368ms/step - loss: 0.2065 - val_loss: 0.2274\n",
      "Epoch 23/40\n",
      "500/500 [==============================] - 184s 368ms/step - loss: 0.2067 - val_loss: 0.2063\n",
      "Epoch 24/40\n",
      "500/500 [==============================] - 183s 366ms/step - loss: 0.2050 - val_loss: 0.2333\n",
      "Epoch 25/40\n",
      "500/500 [==============================] - 183s 366ms/step - loss: 0.2024 - val_loss: 0.2090\n",
      "Epoch 26/40\n",
      "500/500 [==============================] - 183s 365ms/step - loss: 0.2035 - val_loss: 0.1985\n",
      "Epoch 27/40\n",
      "500/500 [==============================] - 183s 366ms/step - loss: 0.2017 - val_loss: 0.2481\n",
      "Epoch 28/40\n",
      "500/500 [==============================] - 182s 365ms/step - loss: 0.2000 - val_loss: 0.1977\n",
      "Epoch 29/40\n",
      "500/500 [==============================] - 182s 364ms/step - loss: 0.2011 - val_loss: 0.1971\n",
      "Epoch 30/40\n",
      "500/500 [==============================] - 182s 364ms/step - loss: 0.2007 - val_loss: 0.1994\n",
      "Epoch 31/40\n",
      "500/500 [==============================] - 182s 364ms/step - loss: 0.1975 - val_loss: 0.1995\n",
      "Epoch 32/40\n",
      "500/500 [==============================] - 182s 363ms/step - loss: 0.1985 - val_loss: 0.1927\n",
      "Epoch 33/40\n",
      "500/500 [==============================] - 183s 366ms/step - loss: 0.1983 - val_loss: 0.1911\n",
      "Epoch 34/40\n",
      "500/500 [==============================] - 183s 366ms/step - loss: 0.1977 - val_loss: 0.1927\n",
      "Epoch 35/40\n",
      "500/500 [==============================] - 182s 363ms/step - loss: 0.1977 - val_loss: 0.1965\n",
      "Epoch 36/40\n",
      "500/500 [==============================] - 184s 367ms/step - loss: 0.1964 - val_loss: 0.1862\n",
      "Epoch 37/40\n",
      "500/500 [==============================] - 181s 362ms/step - loss: 0.1946 - val_loss: 0.1980\n",
      "Epoch 38/40\n",
      "500/500 [==============================] - 182s 364ms/step - loss: 0.1974 - val_loss: 0.1880\n",
      "Epoch 39/40\n",
      "500/500 [==============================] - 180s 360ms/step - loss: 0.1947 - val_loss: 0.1777\n",
      "Epoch 40/40\n",
      "500/500 [==============================] - 181s 362ms/step - loss: 0.1928 - val_loss: 0.1985\n"
     ]
    }
   ],
   "source": [
    "model.compile(optimizer=RMSprop(),loss='mae')\n",
    "hist = model.fit_generator(training_gen,\n",
    "                          steps_per_epoch=500,\n",
    "                          epochs = 40,\n",
    "                          validation_data= validation_gen,\n",
    "                          validation_steps=num_validation_samples)"
   ]
  },
  {
   "cell_type": "code",
   "execution_count": 43,
   "metadata": {},
   "outputs": [
    {
     "data": {
      "image/png": "[encoded data removed]",
      "text/plain": [
       "<matplotlib.figure.Figure at 0x12d793eb8>"
      ]
     },
     "metadata": {},
     "output_type": "display_data"
    }
   ],
   "source": [
    "loss = hist.history['loss']\n",
    "val_loss = hist.history['val_loss']\n",
    "epochs = range(1, len(loss) + 1)\n",
    "plt.figure()\n",
    "plt.plot(epochs, loss, 'bo', label='Training loss')\n",
    "plt.plot(epochs, val_loss, 'b', label='Validation loss')\n",
    "plt.title('Training and validation loss')\n",
    "plt.legend()\n",
    "plt.show()"
   ]
  },
  {
   "cell_type": "code",
   "execution_count": 44,
   "metadata": {
    "collapsed": true
   },
   "outputs": [],
   "source": [
    "model = Sequential()\n",
    "model.add(layers.LSTM(32,\n",
    "                     dropout=0.1,\n",
    "                     recurrent_dropout=0.5,\n",
    "                     return_sequences=True,\n",
    "                     input_shape=(None, 15)))\n",
    "model.add(layers.GRU(64, activation='relu',\n",
    "                    dropout=0.1,\n",
    "                    recurrent_dropout=0.5))\n",
    "model.add(layers.Dense(1))"
   ]
  },
  {
   "cell_type": "code",
   "execution_count": 45,
   "metadata": {},
   "outputs": [
    {
     "name": "stdout",
     "output_type": "stream",
     "text": [
      "Epoch 1/40\n",
      "500/500 [==============================] - 147s 295ms/step - loss: 0.4257 - val_loss: 0.3779\n",
      "Epoch 2/40\n",
      "500/500 [==============================] - 143s 286ms/step - loss: 0.3101 - val_loss: 0.2592\n",
      "Epoch 3/40\n",
      "500/500 [==============================] - 143s 287ms/step - loss: 0.2730 - val_loss: 0.3082\n",
      "Epoch 4/40\n",
      "500/500 [==============================] - 143s 286ms/step - loss: 0.2554 - val_loss: 0.2696\n",
      "Epoch 5/40\n",
      "500/500 [==============================] - 144s 288ms/step - loss: 0.2395 - val_loss: 0.2032\n",
      "Epoch 6/40\n",
      "500/500 [==============================] - 144s 288ms/step - loss: 0.2297 - val_loss: 0.2588\n",
      "Epoch 7/40\n",
      "500/500 [==============================] - 144s 287ms/step - loss: 0.2223 - val_loss: 0.2661\n",
      "Epoch 8/40\n",
      "500/500 [==============================] - 144s 287ms/step - loss: 0.2185 - val_loss: 0.1974\n",
      "Epoch 9/40\n",
      "500/500 [==============================] - 143s 287ms/step - loss: 0.2126 - val_loss: 0.2589\n",
      "Epoch 10/40\n",
      "500/500 [==============================] - 144s 287ms/step - loss: 0.2088 - val_loss: 0.2046\n",
      "Epoch 11/40\n",
      "500/500 [==============================] - 143s 287ms/step - loss: 0.2065 - val_loss: 0.2093\n",
      "Epoch 12/40\n",
      "500/500 [==============================] - 143s 287ms/step - loss: 0.2044 - val_loss: 0.2232\n",
      "Epoch 13/40\n",
      "500/500 [==============================] - 144s 287ms/step - loss: 0.2001 - val_loss: 0.1893\n",
      "Epoch 14/40\n",
      "500/500 [==============================] - 144s 287ms/step - loss: 0.2000 - val_loss: 0.1954\n",
      "Epoch 15/40\n",
      "500/500 [==============================] - 144s 287ms/step - loss: 0.1991 - val_loss: 0.2010\n",
      "Epoch 16/40\n",
      "500/500 [==============================] - 143s 287ms/step - loss: 0.1951 - val_loss: 0.1822\n",
      "Epoch 17/40\n",
      "500/500 [==============================] - 143s 287ms/step - loss: 0.1941 - val_loss: 0.1802\n",
      "Epoch 18/40\n",
      "500/500 [==============================] - 143s 286ms/step - loss: 0.1942 - val_loss: 0.1811\n",
      "Epoch 19/40\n",
      "500/500 [==============================] - 143s 287ms/step - loss: 0.1912 - val_loss: 0.1817\n",
      "Epoch 20/40\n",
      "500/500 [==============================] - 143s 287ms/step - loss: 0.1924 - val_loss: 0.1849\n",
      "Epoch 21/40\n",
      "500/500 [==============================] - 144s 288ms/step - loss: 0.1915 - val_loss: 0.1896\n",
      "Epoch 22/40\n",
      "500/500 [==============================] - 144s 288ms/step - loss: 0.1879 - val_loss: 0.2081\n",
      "Epoch 23/40\n",
      "500/500 [==============================] - 143s 286ms/step - loss: 0.1898 - val_loss: 0.1855\n",
      "Epoch 24/40\n",
      "500/500 [==============================] - 144s 288ms/step - loss: 0.1871 - val_loss: 0.1848\n",
      "Epoch 25/40\n",
      "500/500 [==============================] - 144s 288ms/step - loss: 0.1854 - val_loss: 0.1947\n",
      "Epoch 26/40\n",
      "500/500 [==============================] - 145s 290ms/step - loss: 0.1876 - val_loss: 0.1731\n",
      "Epoch 27/40\n",
      "500/500 [==============================] - 145s 290ms/step - loss: 0.1857 - val_loss: 0.2001\n",
      "Epoch 28/40\n",
      "500/500 [==============================] - 146s 291ms/step - loss: 0.1837 - val_loss: 0.1881\n",
      "Epoch 29/40\n",
      "500/500 [==============================] - 142s 284ms/step - loss: 0.1866 - val_loss: 0.1704\n",
      "Epoch 30/40\n",
      "500/500 [==============================] - 143s 286ms/step - loss: 0.1828 - val_loss: 0.1830\n",
      "Epoch 31/40\n",
      "500/500 [==============================] - 144s 289ms/step - loss: 0.1817 - val_loss: 0.1823\n",
      "Epoch 32/40\n",
      "500/500 [==============================] - 143s 287ms/step - loss: 0.1838 - val_loss: 0.1709\n",
      "Epoch 33/40\n",
      "500/500 [==============================] - 143s 287ms/step - loss: 0.1826 - val_loss: 0.1836\n",
      "Epoch 34/40\n",
      "500/500 [==============================] - 143s 286ms/step - loss: 0.1810 - val_loss: 0.1866\n",
      "Epoch 35/40\n",
      "500/500 [==============================] - 143s 285ms/step - loss: 0.1834 - val_loss: 0.1916\n",
      "Epoch 36/40\n",
      "500/500 [==============================] - 143s 287ms/step - loss: 0.1815 - val_loss: 0.1858\n",
      "Epoch 37/40\n",
      "500/500 [==============================] - 143s 285ms/step - loss: 0.1800 - val_loss: 0.2195\n",
      "Epoch 38/40\n",
      "500/500 [==============================] - 143s 286ms/step - loss: 0.1811 - val_loss: 0.1878\n",
      "Epoch 39/40\n",
      "500/500 [==============================] - 143s 285ms/step - loss: 0.1798 - val_loss: 0.1727\n",
      "Epoch 40/40\n",
      "500/500 [==============================] - 143s 285ms/step - loss: 0.1796 - val_loss: 0.2252\n"
     ]
    }
   ],
   "source": [
    "model.compile(optimizer=RMSprop(),loss='mae')\n",
    "hist = model.fit_generator(training_gen,\n",
    "                          steps_per_epoch=500,\n",
    "                          epochs = 40,\n",
    "                          validation_data= validation_gen,\n",
    "                          validation_steps=num_validation_samples)"
   ]
  },
  {
   "cell_type": "code",
   "execution_count": 46,
   "metadata": {},
   "outputs": [
    {
     "data": {
      "image/png": "[encoded data removed]",
      "text/plain": [
       "<matplotlib.figure.Figure at 0x12ed88a20>"
      ]
     },
     "metadata": {},
     "output_type": "display_data"
    }
   ],
   "source": [
    "loss = hist.history['loss']\n",
    "val_loss = hist.history['val_loss']\n",
    "epochs = range(1, len(loss) + 1)\n",
    "plt.figure()\n",
    "plt.plot(epochs, loss, 'bo', label='Training loss')\n",
    "plt.plot(epochs, val_loss, 'b', label='Validation loss')\n",
    "plt.title('Training and validation loss')\n",
    "plt.legend()\n",
    "plt.show()"
   ]
  },
  {
   "cell_type": "code",
   "execution_count": 47,
   "metadata": {
    "collapsed": true
   },
   "outputs": [],
   "source": [
    "model = Sequential()\n",
    "model.add(layers.LSTM(64,\n",
    "                     dropout=0.1,\n",
    "                     recurrent_dropout=0.5,\n",
    "                     return_sequences=True,\n",
    "                     input_shape=(None, 15)))\n",
    "model.add(layers.GRU(128, activation='relu',\n",
    "                    dropout=0.1,\n",
    "                    recurrent_dropout=0.5))\n",
    "model.add(layers.Dense(1))"
   ]
  },
  {
   "cell_type": "code",
   "execution_count": 48,
   "metadata": {},
   "outputs": [
    {
     "name": "stdout",
     "output_type": "stream",
     "text": [
      "Epoch 1/40\n",
      "500/500 [==============================] - 373s 746ms/step - loss: 0.3798 - val_loss: 0.2644\n",
      "Epoch 2/40\n",
      "500/500 [==============================] - 379s 758ms/step - loss: 0.2842 - val_loss: 0.2319\n",
      "Epoch 3/40\n",
      "500/500 [==============================] - 381s 763ms/step - loss: 0.2471 - val_loss: 0.2199\n",
      "Epoch 4/40\n",
      "500/500 [==============================] - 382s 764ms/step - loss: 0.2241 - val_loss: 0.2368\n",
      "Epoch 5/40\n",
      "500/500 [==============================] - 387s 775ms/step - loss: 0.2160 - val_loss: 0.1855\n",
      "Epoch 6/40\n",
      "500/500 [==============================] - 388s 776ms/step - loss: 0.2076 - val_loss: 0.2023\n",
      "Epoch 7/40\n",
      "500/500 [==============================] - 388s 775ms/step - loss: 0.2002 - val_loss: 0.1943\n",
      "Epoch 8/40\n",
      "500/500 [==============================] - 397s 793ms/step - loss: 0.1988 - val_loss: 0.2204\n",
      "Epoch 9/40\n",
      "500/500 [==============================] - 397s 793ms/step - loss: 0.1939 - val_loss: 0.1903\n",
      "Epoch 10/40\n",
      "500/500 [==============================] - 395s 789ms/step - loss: 0.1907 - val_loss: 0.2338\n",
      "Epoch 11/40\n",
      "500/500 [==============================] - 393s 785ms/step - loss: 0.1909 - val_loss: 0.1869\n",
      "Epoch 12/40\n",
      "500/500 [==============================] - 395s 790ms/step - loss: 0.1872 - val_loss: 0.1912\n",
      "Epoch 13/40\n",
      "500/500 [==============================] - 393s 785ms/step - loss: 0.1839 - val_loss: 0.1965\n",
      "Epoch 14/40\n",
      "500/500 [==============================] - 395s 790ms/step - loss: 0.1855 - val_loss: 0.1894\n",
      "Epoch 15/40\n",
      "500/500 [==============================] - 393s 786ms/step - loss: 0.1822 - val_loss: 0.2032\n",
      "Epoch 16/40\n",
      "500/500 [==============================] - 397s 793ms/step - loss: 0.1792 - val_loss: 0.1818\n",
      "Epoch 17/40\n",
      "500/500 [==============================] - 392s 784ms/step - loss: 0.1814 - val_loss: 0.1768\n",
      "Epoch 18/40\n",
      "500/500 [==============================] - 397s 794ms/step - loss: 0.1795 - val_loss: 0.1851\n",
      "Epoch 19/40\n",
      "500/500 [==============================] - 408s 817ms/step - loss: 0.1757 - val_loss: 0.1789\n",
      "Epoch 20/40\n",
      "500/500 [==============================] - 397s 795ms/step - loss: 0.1784 - val_loss: 0.1721\n",
      "Epoch 21/40\n",
      "500/500 [==============================] - 396s 793ms/step - loss: 0.1750 - val_loss: 0.1961\n",
      "Epoch 22/40\n",
      "500/500 [==============================] - 395s 789ms/step - loss: 0.1743 - val_loss: 0.2013\n",
      "Epoch 23/40\n",
      "500/500 [==============================] - 396s 792ms/step - loss: 0.1757 - val_loss: 0.1962\n",
      "Epoch 24/40\n",
      "500/500 [==============================] - 397s 793ms/step - loss: 0.1732 - val_loss: 0.1728\n",
      "Epoch 25/40\n",
      "500/500 [==============================] - 393s 786ms/step - loss: 0.1728 - val_loss: 0.2528\n",
      "Epoch 26/40\n",
      "500/500 [==============================] - 394s 789ms/step - loss: 0.1715 - val_loss: 0.1895\n",
      "Epoch 27/40\n",
      "500/500 [==============================] - 394s 789ms/step - loss: 0.1719 - val_loss: 0.1679\n",
      "Epoch 28/40\n",
      "500/500 [==============================] - 395s 789ms/step - loss: 0.1710 - val_loss: 0.2150\n",
      "Epoch 29/40\n",
      "500/500 [==============================] - 401s 802ms/step - loss: 0.1694 - val_loss: 0.1865\n",
      "Epoch 30/40\n",
      "500/500 [==============================] - 404s 808ms/step - loss: 0.1708 - val_loss: 0.1792\n",
      "Epoch 31/40\n",
      "500/500 [==============================] - 398s 796ms/step - loss: 0.1699 - val_loss: 0.2246\n",
      "Epoch 32/40\n",
      "500/500 [==============================] - 400s 799ms/step - loss: 0.1672 - val_loss: 0.1872\n",
      "Epoch 33/40\n",
      "500/500 [==============================] - 395s 790ms/step - loss: 0.1694 - val_loss: 0.1768\n",
      "Epoch 34/40\n",
      "500/500 [==============================] - 396s 793ms/step - loss: 0.1683 - val_loss: 0.2286\n",
      "Epoch 35/40\n",
      "500/500 [==============================] - 398s 796ms/step - loss: 0.1663 - val_loss: 0.1996\n",
      "Epoch 36/40\n",
      "500/500 [==============================] - 397s 793ms/step - loss: 0.1683 - val_loss: 0.1699\n",
      "Epoch 37/40\n",
      "500/500 [==============================] - 396s 792ms/step - loss: 0.1671 - val_loss: 0.2053\n",
      "Epoch 38/40\n",
      "500/500 [==============================] - 379s 757ms/step - loss: 0.1652 - val_loss: 0.2073\n",
      "Epoch 39/40\n",
      "500/500 [==============================] - 233s 465ms/step - loss: 0.1676 - val_loss: 0.1795\n",
      "Epoch 40/40\n",
      "500/500 [==============================] - 237s 473ms/step - loss: 0.1664 - val_loss: 0.1890\n"
     ]
    }
   ],
   "source": [
    "model.compile(optimizer=RMSprop(),loss='mae')\n",
    "hist = model.fit_generator(training_gen,\n",
    "                          steps_per_epoch=500,\n",
    "                          epochs = 40,\n",
    "                          validation_data= validation_gen,\n",
    "                          validation_steps=num_validation_samples)"
   ]
  },
  {
   "cell_type": "code",
   "execution_count": 49,
   "metadata": {},
   "outputs": [
    {
     "data": {
      "image/png": "[encoded data removed]",
      "text/plain": [
       "<matplotlib.figure.Figure at 0x130b7be10>"
      ]
     },
     "metadata": {},
     "output_type": "display_data"
    }
   ],
   "source": [
    "loss = hist.history['loss']\n",
    "val_loss = hist.history['val_loss']\n",
    "epochs = range(1, len(loss) + 1)\n",
    "plt.figure()\n",
    "plt.plot(epochs, loss, 'bo', label='Training loss')\n",
    "plt.plot(epochs, val_loss, 'b', label='Validation loss')\n",
    "plt.title('Training and validation loss')\n",
    "plt.legend()\n",
    "plt.show()"
   ]
  },
  {
   "cell_type": "code",
   "execution_count": 50,
   "metadata": {
    "collapsed": true
   },
   "outputs": [],
   "source": [
    "model = Sequential()\n",
    "model.add(layers.LSTM(32,\n",
    "                      input_shape=(None, 15)))\n",
    "model.add(layers.Dense(1))"
   ]
  },
  {
   "cell_type": "code",
   "execution_count": 52,
   "metadata": {},
   "outputs": [
    {
     "name": "stdout",
     "output_type": "stream",
     "text": [
      "Epoch 1/20\n",
      "500/500 [==============================] - 68s 135ms/step - loss: 0.2177 - val_loss: 0.2196\n",
      "Epoch 2/20\n",
      "500/500 [==============================] - 66s 132ms/step - loss: 0.1932 - val_loss: 0.2222\n",
      "Epoch 3/20\n",
      "500/500 [==============================] - 67s 133ms/step - loss: 0.1793 - val_loss: 0.1960\n",
      "Epoch 4/20\n",
      "500/500 [==============================] - 66s 131ms/step - loss: 0.1738 - val_loss: 0.1860\n",
      "Epoch 5/20\n",
      "500/500 [==============================] - 66s 133ms/step - loss: 0.1695 - val_loss: 0.2052\n",
      "Epoch 6/20\n",
      "500/500 [==============================] - 66s 131ms/step - loss: 0.1639 - val_loss: 0.1920\n",
      "Epoch 7/20\n",
      "500/500 [==============================] - 67s 134ms/step - loss: 0.1630 - val_loss: 0.1824\n",
      "Epoch 8/20\n",
      "500/500 [==============================] - 66s 132ms/step - loss: 0.1610 - val_loss: 0.1960\n",
      "Epoch 9/20\n",
      "500/500 [==============================] - 66s 133ms/step - loss: 0.1580 - val_loss: 0.1962\n",
      "Epoch 10/20\n",
      "500/500 [==============================] - 66s 133ms/step - loss: 0.1583 - val_loss: 0.1786\n",
      "Epoch 11/20\n",
      "500/500 [==============================] - 66s 133ms/step - loss: 0.1567 - val_loss: 0.1954\n",
      "Epoch 12/20\n",
      "500/500 [==============================] - 66s 133ms/step - loss: 0.1541 - val_loss: 0.2063\n",
      "Epoch 13/20\n",
      "500/500 [==============================] - 67s 133ms/step - loss: 0.1554 - val_loss: 0.1802\n",
      "Epoch 14/20\n",
      "500/500 [==============================] - 66s 133ms/step - loss: 0.1528 - val_loss: 0.1943\n",
      "Epoch 15/20\n",
      "500/500 [==============================] - 66s 132ms/step - loss: 0.1512 - val_loss: 0.2047\n",
      "Epoch 16/20\n",
      "500/500 [==============================] - 67s 133ms/step - loss: 0.1525 - val_loss: 0.1866\n",
      "Epoch 17/20\n",
      "500/500 [==============================] - 67s 134ms/step - loss: 0.1500 - val_loss: 0.1939\n",
      "Epoch 18/20\n",
      "500/500 [==============================] - 67s 133ms/step - loss: 0.1486 - val_loss: 0.2063\n",
      "Epoch 19/20\n",
      "500/500 [==============================] - 67s 133ms/step - loss: 0.1503 - val_loss: 0.1802\n",
      "Epoch 20/20\n",
      "500/500 [==============================] - 67s 134ms/step - loss: 0.1473 - val_loss: 0.1906\n"
     ]
    }
   ],
   "source": [
    "model.compile(optimizer=RMSprop(),loss='mae')\n",
    "hist = model.fit_generator(training_gen,\n",
    "                          steps_per_epoch=500,\n",
    "                          epochs = 20,\n",
    "                          validation_data= validation_gen,\n",
    "                          validation_steps=num_validation_samples)"
   ]
  },
  {
   "cell_type": "code",
   "execution_count": 53,
   "metadata": {},
   "outputs": [
    {
     "data": {
      "image/png": "[encoded data removed]",
      "text/plain": [
       "<matplotlib.figure.Figure at 0x13480cbe0>"
      ]
     },
     "metadata": {},
     "output_type": "display_data"
    }
   ],
   "source": [
    "loss = hist.history['loss']\n",
    "val_loss = hist.history['val_loss']\n",
    "epochs = range(1, len(loss) + 1)\n",
    "plt.figure()\n",
    "plt.plot(epochs, loss, 'bo', label='Training loss')\n",
    "plt.plot(epochs, val_loss, 'b', label='Validation loss')\n",
    "plt.title('Training and validation loss')\n",
    "plt.legend()\n",
    "plt.show()"
   ]
  },
  {
   "cell_type": "code",
   "execution_count": null,
   "metadata": {
    "collapsed": true
   },
   "outputs": [],
   "source": []
  },
  {
   "cell_type": "code",
   "execution_count": null,
   "metadata": {
    "collapsed": true
   },
   "outputs": [],
   "source": []
  },
  {
   "cell_type": "code",
   "execution_count": null,
   "metadata": {
    "collapsed": true
   },
   "outputs": [],
   "source": []
  },
  {
   "cell_type": "code",
   "execution_count": null,
   "metadata": {
    "collapsed": true
   },
   "outputs": [],
   "source": []
  }
 ],
 "metadata": {
  "kernelspec": {
   "display_name": "tensorflow",
   "language": "python",
   "name": "tensorflow"
  },
  "language_info": {
   "codemirror_mode": {
    "name": "ipython",
    "version": 3
   },
   "file_extension": ".py",
   "mimetype": "text/x-python",
   "name": "python",
   "nbconvert_exporter": "python",
   "pygments_lexer": "ipython3",
   "version": "3.6.5"
  }
 },
 "nbformat": 4,
 "nbformat_minor": 2
}
