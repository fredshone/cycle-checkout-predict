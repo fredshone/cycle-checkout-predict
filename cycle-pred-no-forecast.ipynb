{
 "cells": [
  {
   "cell_type": "code",
   "execution_count": 1,
   "metadata": {},
   "outputs": [
    {
     "name": "stderr",
     "output_type": "stream",
     "text": [
      "/Users/fredshone/tensorflow/lib/python3.6/site-packages/h5py/__init__.py:36: FutureWarning: Conversion of the second argument of issubdtype from `float` to `np.floating` is deprecated. In future, it will be treated as `np.float64 == np.dtype(float).type`.\n",
      "  from ._conv import register_converters as _register_converters\n",
      "Using TensorFlow backend.\n"
     ]
    }
   ],
   "source": [
    "import pandas as pd\n",
    "import numpy as np\n",
    "import os\n",
    "from matplotlib import pyplot as plt\n",
    "from keras.models import Sequential\n",
    "from keras import layers\n",
    "from keras.optimizers import RMSprop"
   ]
  },
  {
   "cell_type": "markdown",
   "metadata": {
    "collapsed": true
   },
   "source": [
    "## Predicting Bike Checkout - Without Weather Forecast\n",
    "Training of a variety of models for predicting bike checkouts (currently set up for three hours into the future). In this workbook it is assumed that weather data is NOT known ahead of the time the prediction is made(ie it is assumed that there is no forecast data)\n",
    "#### Methodology\n",
    "Three years of data are used for training and validation. There is currently no test. Intention is to wait for new data. 2015 and 2016 data is used for training. 2017 data is used for validation. This is a large validation set but provides validation against a wide variety of seasonal variation.\n",
    "Data is standardised to mean of zero and single standard deviation.\n",
    "Mean Absolute Error is used to compare senarios.\n",
    "\n",
    "          -------time---------------------------------------->\n",
    "          \n",
    "raw data------------------1---1---1---0---2---1---4---1---4---4---6---5---2---2---1---0---0---1--\n",
    "\n",
    "          \n",
    "known data---------------1---1---1---0---2---1---4---1---4---4---6---5---2---2-----------------\n",
    "\n",
    "          \n",
    "unknown data------------1---1---1---0---2---1---4---1---4-------------------------------\n",
    "\n",
    "          -------time---------------------------------------->\n",
    "                ^                          ^              ^\n",
    "                |                          |              |\n",
    "                |   <----lookback----->    |  <--delay--> |\n",
    "                |   <------------known data-------------> |\n",
    "                |   <--unknown data--->    |              |\n",
    "                |                          |              |\n",
    "                                time of prediction    prediction\n",
    "#### Benchmarking\n",
    "Two simple benchmarks are created: prediction using previous day and prediction using previos same-day. MAEs are around 0.3 standard deviations - approx. ten checkout counts.\n",
    "#### Results\n",
    "A simple fully connected model offers no improvement over the benchmarks.\n",
    "A number of recurrent networks (GRU and LSTM) are trained - best validation MAE is approx. 0.2 standard deviations or six checkout counts.\n",
    "#### Notes\n",
    "Prediction performance doesn't dip much below the 'known' scenario, where weather data is available up to the prediction time.\n",
    "Better performance is achieved with heavier models with larger, more complex and more layers, but improvements are minor.\n",
    "Need to try different periods of lookback."
   ]
  },
  {
   "cell_type": "code",
   "execution_count": 122,
   "metadata": {
    "collapsed": true
   },
   "outputs": [],
   "source": [
    "def standardise(_array):\n",
    "    array = _array.copy()\n",
    "    mean = array.mean(axis=0)\n",
    "    array -= mean\n",
    "    std = array.std(axis=0)\n",
    "    array /= std\n",
    "    return array"
   ]
  },
  {
   "cell_type": "code",
   "execution_count": null,
   "metadata": {
    "collapsed": true
   },
   "outputs": [],
   "source": [
    "def split(df):\n",
    "    y = np.array(df['Checkout_count'],\n",
    "                 dtype='float64')\n",
    "    Xk = np.array(df[['month', 'weekday', 'hour',\n",
    "                      'Holiday', 'Teaching_term', 'Study_Holidays', 'Exam_Period', 'Holidays_Period']],\n",
    "                  dtype='float64')\n",
    "    Xu = np.array(df[['Checkout_count',\n",
    "                      'rain', 'temp', 'humidity', 'wind_speed', 'visibility', 'cloud_amount']],\n",
    "                  dtype='float64')\n",
    "    return Xk, Xu, y   "
   ]
  },
  {
   "cell_type": "code",
   "execution_count": 160,
   "metadata": {
    "collapsed": true
   },
   "outputs": [],
   "source": [
    "def generator(_y, _Xk, _Xu, lookback, delay, batch_size=128, step=1):\n",
    "    \"\"\"Method to generate batches of \"\"\"\n",
    "    max_index = len(_y) - delay - 1\n",
    "    i = lookback - 1\n",
    "    while True:\n",
    "        end_index = min(i + batch_size, max_index)       \n",
    "        rows = np.arange(i, end_index)\n",
    "        length = len(rows)     \n",
    "        #print('{}-->{} ({})'.format(i, end_index, length))          \n",
    "        i += length        \n",
    "        if i >= max_index:\n",
    "            #print('> all data seen')\n",
    "            i = lookback    \n",
    "        y = np.zeros((len(rows),))\n",
    "        Xk = np.zeros((len(rows),\n",
    "                      (lookback + delay) // step,\n",
    "                      _Xk.shape[-1]))\n",
    "        Xu = np.zeros((len(rows),\n",
    "                       (lookback + delay) // step,\n",
    "                       _Xu.shape[-1]))\n",
    "        for j, row in enumerate(rows):\n",
    "            y[j] = _y[rows[j] + delay]\n",
    "            known_indices = range(rows[j] - lookback, rows[j] + delay, step)\n",
    "            Xk[j] = _Xk[known_indices]\n",
    "            unknown_indices = range(rows[j] - lookback, rows[j], step)\n",
    "            Xu[j,:(lookback//step)] = _Xu[unknown_indices]\n",
    "        X = np.concatenate((Xu, Xk), axis=2)\n",
    "            \n",
    "        yield X, y    "
   ]
  },
  {
   "cell_type": "code",
   "execution_count": 185,
   "metadata": {
    "collapsed": true
   },
   "outputs": [],
   "source": [
    "df_raw = pd.read_csv(os.path.join('data', 'bike_share_hours.csv'))\n",
    "df = df_raw.drop('date', axis=1)"
   ]
  },
  {
   "cell_type": "code",
   "execution_count": 189,
   "metadata": {
    "collapsed": true
   },
   "outputs": [],
   "source": [
    "mean = df.mean(axis=0)\n",
    "std = df.std(axis=0)\n",
    "df_standardised = standardise(df)"
   ]
  },
  {
   "cell_type": "code",
   "execution_count": 163,
   "metadata": {
    "collapsed": true
   },
   "outputs": [],
   "source": [
    "lookback = 7 * 24\n",
    "delay = 3\n",
    "step = 1\n",
    "batch_size = 128"
   ]
  },
  {
   "cell_type": "code",
   "execution_count": 164,
   "metadata": {},
   "outputs": [
    {
     "data": {
      "text/html": [
       "<div>\n",
       "<style scoped>\n",
       "    .dataframe tbody tr th:only-of-type {\n",
       "        vertical-align: middle;\n",
       "    }\n",
       "\n",
       "    .dataframe tbody tr th {\n",
       "        vertical-align: top;\n",
       "    }\n",
       "\n",
       "    .dataframe thead th {\n",
       "        text-align: right;\n",
       "    }\n",
       "</style>\n",
       "<table border=\"1\" class=\"dataframe\">\n",
       "  <thead>\n",
       "    <tr style=\"text-align: right;\">\n",
       "      <th></th>\n",
       "      <th>Unnamed: 0</th>\n",
       "      <th>year</th>\n",
       "      <th>month</th>\n",
       "      <th>day</th>\n",
       "      <th>weekday</th>\n",
       "      <th>week</th>\n",
       "      <th>hour</th>\n",
       "      <th>Checkout_count</th>\n",
       "      <th>rain</th>\n",
       "      <th>temp</th>\n",
       "      <th>humidity</th>\n",
       "      <th>wind_speed</th>\n",
       "      <th>wind_direction</th>\n",
       "      <th>visibility</th>\n",
       "      <th>cloud_amount</th>\n",
       "      <th>Holiday</th>\n",
       "      <th>Teaching_term</th>\n",
       "      <th>Study_Holidays</th>\n",
       "      <th>Exam_Period</th>\n",
       "      <th>Holidays_Period</th>\n",
       "    </tr>\n",
       "  </thead>\n",
       "  <tbody>\n",
       "    <tr>\n",
       "      <th>count</th>\n",
       "      <td>2.629800e+04</td>\n",
       "      <td>2.629800e+04</td>\n",
       "      <td>2.629800e+04</td>\n",
       "      <td>2.629800e+04</td>\n",
       "      <td>2.629800e+04</td>\n",
       "      <td>2.629800e+04</td>\n",
       "      <td>2.629800e+04</td>\n",
       "      <td>2.629800e+04</td>\n",
       "      <td>2.629800e+04</td>\n",
       "      <td>2.629800e+04</td>\n",
       "      <td>2.629800e+04</td>\n",
       "      <td>2.629800e+04</td>\n",
       "      <td>2.629800e+04</td>\n",
       "      <td>2.629800e+04</td>\n",
       "      <td>2.629800e+04</td>\n",
       "      <td>2.629800e+04</td>\n",
       "      <td>2.629800e+04</td>\n",
       "      <td>2.629800e+04</td>\n",
       "      <td>2.629800e+04</td>\n",
       "      <td>2.629800e+04</td>\n",
       "    </tr>\n",
       "    <tr>\n",
       "      <th>mean</th>\n",
       "      <td>1.729209e-17</td>\n",
       "      <td>-1.729209e-17</td>\n",
       "      <td>8.646044e-17</td>\n",
       "      <td>5.619929e-17</td>\n",
       "      <td>-1.567096e-17</td>\n",
       "      <td>-5.187627e-17</td>\n",
       "      <td>1.293529e-17</td>\n",
       "      <td>-4.214947e-17</td>\n",
       "      <td>6.377538e-15</td>\n",
       "      <td>2.718749e-14</td>\n",
       "      <td>-3.761029e-16</td>\n",
       "      <td>3.296304e-17</td>\n",
       "      <td>8.646044e-17</td>\n",
       "      <td>3.458418e-17</td>\n",
       "      <td>-7.943553e-17</td>\n",
       "      <td>9.834875e-17</td>\n",
       "      <td>1.902130e-16</td>\n",
       "      <td>-4.971476e-17</td>\n",
       "      <td>1.383367e-16</td>\n",
       "      <td>8.646044e-18</td>\n",
       "    </tr>\n",
       "    <tr>\n",
       "      <th>std</th>\n",
       "      <td>1.000000e+00</td>\n",
       "      <td>1.000000e+00</td>\n",
       "      <td>1.000000e+00</td>\n",
       "      <td>1.000000e+00</td>\n",
       "      <td>1.000000e+00</td>\n",
       "      <td>1.000000e+00</td>\n",
       "      <td>1.000000e+00</td>\n",
       "      <td>1.000000e+00</td>\n",
       "      <td>1.000000e+00</td>\n",
       "      <td>1.000000e+00</td>\n",
       "      <td>1.000000e+00</td>\n",
       "      <td>1.000000e+00</td>\n",
       "      <td>1.000000e+00</td>\n",
       "      <td>1.000000e+00</td>\n",
       "      <td>1.000000e+00</td>\n",
       "      <td>1.000000e+00</td>\n",
       "      <td>1.000000e+00</td>\n",
       "      <td>1.000000e+00</td>\n",
       "      <td>1.000000e+00</td>\n",
       "      <td>1.000000e+00</td>\n",
       "    </tr>\n",
       "    <tr>\n",
       "      <th>min</th>\n",
       "      <td>-1.731952e+00</td>\n",
       "      <td>-1.225211e+00</td>\n",
       "      <td>-1.600997e+00</td>\n",
       "      <td>-1.673982e+00</td>\n",
       "      <td>-1.502986e+00</td>\n",
       "      <td>-1.708021e+00</td>\n",
       "      <td>-1.661831e+00</td>\n",
       "      <td>-9.968580e-01</td>\n",
       "      <td>-2.618729e-01</td>\n",
       "      <td>-2.876356e+00</td>\n",
       "      <td>-4.745870e+00</td>\n",
       "      <td>-1.886504e+00</td>\n",
       "      <td>-2.598461e+00</td>\n",
       "      <td>-1.720343e+00</td>\n",
       "      <td>-2.436319e+00</td>\n",
       "      <td>-1.677740e-01</td>\n",
       "      <td>-8.973755e-01</td>\n",
       "      <td>-1.706274e-01</td>\n",
       "      <td>-2.749181e-01</td>\n",
       "      <td>-8.976517e-01</td>\n",
       "    </tr>\n",
       "    <tr>\n",
       "      <th>25%</th>\n",
       "      <td>-8.659760e-01</td>\n",
       "      <td>-1.225211e+00</td>\n",
       "      <td>-7.311898e-01</td>\n",
       "      <td>-8.786095e-01</td>\n",
       "      <td>-1.002866e+00</td>\n",
       "      <td>-8.453565e-01</td>\n",
       "      <td>-7.949608e-01</td>\n",
       "      <td>-8.801305e-01</td>\n",
       "      <td>-2.618729e-01</td>\n",
       "      <td>-6.895556e-01</td>\n",
       "      <td>-5.246522e-01</td>\n",
       "      <td>-7.188683e-01</td>\n",
       "      <td>-6.638192e-01</td>\n",
       "      <td>-5.164802e-01</td>\n",
       "      <td>-7.393280e-01</td>\n",
       "      <td>-1.677740e-01</td>\n",
       "      <td>-8.973755e-01</td>\n",
       "      <td>-1.706274e-01</td>\n",
       "      <td>-2.749181e-01</td>\n",
       "      <td>-8.976517e-01</td>\n",
       "    </tr>\n",
       "    <tr>\n",
       "      <th>50%</th>\n",
       "      <td>0.000000e+00</td>\n",
       "      <td>0.000000e+00</td>\n",
       "      <td>1.386175e-01</td>\n",
       "      <td>3.038716e-02</td>\n",
       "      <td>-2.624407e-03</td>\n",
       "      <td>1.730758e-02</td>\n",
       "      <td>7.190957e-02</td>\n",
       "      <td>-2.381290e-01</td>\n",
       "      <td>-2.618729e-01</td>\n",
       "      <td>8.640569e-02</td>\n",
       "      <td>2.351670e-01</td>\n",
       "      <td>-1.350505e-01</td>\n",
       "      <td>1.825865e-01</td>\n",
       "      <td>8.847620e-02</td>\n",
       "      <td>5.334151e-01</td>\n",
       "      <td>-1.677740e-01</td>\n",
       "      <td>-8.973755e-01</td>\n",
       "      <td>-1.706274e-01</td>\n",
       "      <td>-2.749181e-01</td>\n",
       "      <td>-8.976517e-01</td>\n",
       "    </tr>\n",
       "    <tr>\n",
       "      <th>75%</th>\n",
       "      <td>8.659760e-01</td>\n",
       "      <td>1.225211e+00</td>\n",
       "      <td>1.008425e+00</td>\n",
       "      <td>8.257592e-01</td>\n",
       "      <td>9.976168e-01</td>\n",
       "      <td>8.799717e-01</td>\n",
       "      <td>9.387800e-01</td>\n",
       "      <td>5.497819e-01</td>\n",
       "      <td>-2.618729e-01</td>\n",
       "      <td>7.212832e-01</td>\n",
       "      <td>8.261376e-01</td>\n",
       "      <td>6.433732e-01</td>\n",
       "      <td>7.871619e-01</td>\n",
       "      <td>6.934326e-01</td>\n",
       "      <td>5.334151e-01</td>\n",
       "      <td>-1.677740e-01</td>\n",
       "      <td>1.114318e+00</td>\n",
       "      <td>-1.706274e-01</td>\n",
       "      <td>-2.749181e-01</td>\n",
       "      <td>1.113975e+00</td>\n",
       "    </tr>\n",
       "    <tr>\n",
       "      <th>max</th>\n",
       "      <td>1.731952e+00</td>\n",
       "      <td>1.225211e+00</td>\n",
       "      <td>1.588296e+00</td>\n",
       "      <td>1.734756e+00</td>\n",
       "      <td>1.497737e+00</td>\n",
       "      <td>1.742636e+00</td>\n",
       "      <td>1.661172e+00</td>\n",
       "      <td>5.014610e+00</td>\n",
       "      <td>2.648694e+01</td>\n",
       "      <td>3.284307e+00</td>\n",
       "      <td>1.079411e+00</td>\n",
       "      <td>6.481551e+00</td>\n",
       "      <td>1.754483e+00</td>\n",
       "      <td>2.810780e+00</td>\n",
       "      <td>9.576628e-01</td>\n",
       "      <td>5.960172e+00</td>\n",
       "      <td>1.114318e+00</td>\n",
       "      <td>5.860501e+00</td>\n",
       "      <td>3.637309e+00</td>\n",
       "      <td>1.113975e+00</td>\n",
       "    </tr>\n",
       "  </tbody>\n",
       "</table>\n",
       "</div>"
      ],
      "text/plain": [
       "         Unnamed: 0          year         month           day       weekday  \\\n",
       "count  2.629800e+04  2.629800e+04  2.629800e+04  2.629800e+04  2.629800e+04   \n",
       "mean   1.729209e-17 -1.729209e-17  8.646044e-17  5.619929e-17 -1.567096e-17   \n",
       "std    1.000000e+00  1.000000e+00  1.000000e+00  1.000000e+00  1.000000e+00   \n",
       "min   -1.731952e+00 -1.225211e+00 -1.600997e+00 -1.673982e+00 -1.502986e+00   \n",
       "25%   -8.659760e-01 -1.225211e+00 -7.311898e-01 -8.786095e-01 -1.002866e+00   \n",
       "50%    0.000000e+00  0.000000e+00  1.386175e-01  3.038716e-02 -2.624407e-03   \n",
       "75%    8.659760e-01  1.225211e+00  1.008425e+00  8.257592e-01  9.976168e-01   \n",
       "max    1.731952e+00  1.225211e+00  1.588296e+00  1.734756e+00  1.497737e+00   \n",
       "\n",
       "               week          hour  Checkout_count          rain          temp  \\\n",
       "count  2.629800e+04  2.629800e+04    2.629800e+04  2.629800e+04  2.629800e+04   \n",
       "mean  -5.187627e-17  1.293529e-17   -4.214947e-17  6.377538e-15  2.718749e-14   \n",
       "std    1.000000e+00  1.000000e+00    1.000000e+00  1.000000e+00  1.000000e+00   \n",
       "min   -1.708021e+00 -1.661831e+00   -9.968580e-01 -2.618729e-01 -2.876356e+00   \n",
       "25%   -8.453565e-01 -7.949608e-01   -8.801305e-01 -2.618729e-01 -6.895556e-01   \n",
       "50%    1.730758e-02  7.190957e-02   -2.381290e-01 -2.618729e-01  8.640569e-02   \n",
       "75%    8.799717e-01  9.387800e-01    5.497819e-01 -2.618729e-01  7.212832e-01   \n",
       "max    1.742636e+00  1.661172e+00    5.014610e+00  2.648694e+01  3.284307e+00   \n",
       "\n",
       "           humidity    wind_speed  wind_direction    visibility  cloud_amount  \\\n",
       "count  2.629800e+04  2.629800e+04    2.629800e+04  2.629800e+04  2.629800e+04   \n",
       "mean  -3.761029e-16  3.296304e-17    8.646044e-17  3.458418e-17 -7.943553e-17   \n",
       "std    1.000000e+00  1.000000e+00    1.000000e+00  1.000000e+00  1.000000e+00   \n",
       "min   -4.745870e+00 -1.886504e+00   -2.598461e+00 -1.720343e+00 -2.436319e+00   \n",
       "25%   -5.246522e-01 -7.188683e-01   -6.638192e-01 -5.164802e-01 -7.393280e-01   \n",
       "50%    2.351670e-01 -1.350505e-01    1.825865e-01  8.847620e-02  5.334151e-01   \n",
       "75%    8.261376e-01  6.433732e-01    7.871619e-01  6.934326e-01  5.334151e-01   \n",
       "max    1.079411e+00  6.481551e+00    1.754483e+00  2.810780e+00  9.576628e-01   \n",
       "\n",
       "            Holiday  Teaching_term  Study_Holidays   Exam_Period  \\\n",
       "count  2.629800e+04   2.629800e+04    2.629800e+04  2.629800e+04   \n",
       "mean   9.834875e-17   1.902130e-16   -4.971476e-17  1.383367e-16   \n",
       "std    1.000000e+00   1.000000e+00    1.000000e+00  1.000000e+00   \n",
       "min   -1.677740e-01  -8.973755e-01   -1.706274e-01 -2.749181e-01   \n",
       "25%   -1.677740e-01  -8.973755e-01   -1.706274e-01 -2.749181e-01   \n",
       "50%   -1.677740e-01  -8.973755e-01   -1.706274e-01 -2.749181e-01   \n",
       "75%   -1.677740e-01   1.114318e+00   -1.706274e-01 -2.749181e-01   \n",
       "max    5.960172e+00   1.114318e+00    5.860501e+00  3.637309e+00   \n",
       "\n",
       "       Holidays_Period  \n",
       "count     2.629800e+04  \n",
       "mean      8.646044e-18  \n",
       "std       1.000000e+00  \n",
       "min      -8.976517e-01  \n",
       "25%      -8.976517e-01  \n",
       "50%      -8.976517e-01  \n",
       "75%       1.113975e+00  \n",
       "max       1.113975e+00  "
      ]
     },
     "execution_count": 164,
     "metadata": {},
     "output_type": "execute_result"
    }
   ],
   "source": [
    "df_standardised.describe()"
   ]
  },
  {
   "cell_type": "code",
   "execution_count": 165,
   "metadata": {},
   "outputs": [
    {
     "data": {
      "text/plain": [
       "17539"
      ]
     },
     "execution_count": 165,
     "metadata": {},
     "output_type": "execute_result"
    }
   ],
   "source": [
    "df_train = df_standardise[(df.year == 2015) | (df.year == 2016)]\n",
    "len(df_train)"
   ]
  },
  {
   "cell_type": "code",
   "execution_count": 166,
   "metadata": {},
   "outputs": [
    {
     "data": {
      "text/plain": [
       "8759"
      ]
     },
     "execution_count": 166,
     "metadata": {},
     "output_type": "execute_result"
    }
   ],
   "source": [
    "df_validate = df_standardise[df.year == 2017]\n",
    "len(df_validate)"
   ]
  },
  {
   "cell_type": "code",
   "execution_count": 167,
   "metadata": {
    "collapsed": true
   },
   "outputs": [],
   "source": [
    "Xk_train, Xu_train, y_train = split(df_train)\n",
    "Xk_validate, Xu_validate, y_validate = split(df_validate)"
   ]
  },
  {
   "cell_type": "code",
   "execution_count": null,
   "metadata": {
    "collapsed": true
   },
   "outputs": [],
   "source": [
    "lookback = 7 * 24\n",
    "delay = 3\n",
    "step = 1\n",
    "batch_size = 128"
   ]
  },
  {
   "cell_type": "code",
   "execution_count": 168,
   "metadata": {
    "collapsed": true
   },
   "outputs": [],
   "source": [
    "training_gen = generator(y_train, Xk_train, Xu_train,\n",
    "                         lookback, delay)\n",
    "num_training_batches = int((len(df_train) - lookback - delay) / batch_size)\n",
    "validation_gen = generator(y_validate, Xk_validate, Xu_validate,\n",
    "                         lookback, delay)\n",
    "num_validation_samples = int((len(df_validate) - lookback - delay) / batch_size)"
   ]
  },
  {
   "cell_type": "markdown",
   "metadata": {},
   "source": [
    "## Benchmarking\n",
    "Benchmarking with some relatively naive methods:\n",
    "1. predicting using checkouts from 7 days ago\n",
    "2. pedicting using checkouts from 24 hours ago"
   ]
  },
  {
   "cell_type": "code",
   "execution_count": 190,
   "metadata": {
    "collapsed": true
   },
   "outputs": [],
   "source": [
    "def eval_naive(samples, gen, index):\n",
    "    maes = []\n",
    "    for i in range(samples):\n",
    "        X, y = next(gen)\n",
    "        preds = X[:, index, 0]\n",
    "        mae = np.mean(np.abs(preds - y))\n",
    "        maes.append(mae)\n",
    "    return np.mean(maes)"
   ]
  },
  {
   "cell_type": "code",
   "execution_count": 177,
   "metadata": {},
   "outputs": [
    {
     "data": {
      "text/plain": [
       "10.381402645861133"
      ]
     },
     "execution_count": 177,
     "metadata": {},
     "output_type": "execute_result"
    }
   ],
   "source": [
    "# Sample from 7 days ago\n",
    "eval_naive(num_validation_samples, validation_gen, delay) * df.Checkout_count.std()"
   ]
  },
  {
   "cell_type": "code",
   "execution_count": 218,
   "metadata": {},
   "outputs": [
    {
     "data": {
      "text/plain": [
       "[<matplotlib.lines.Line2D at 0x15be5dc50>]"
      ]
     },
     "execution_count": 218,
     "metadata": {},
     "output_type": "execute_result"
    },
    {
     "data": {
      "image/png": "[encoded data removed]",
      "text/plain": [
       "<matplotlib.figure.Figure at 0x15ef1eef0>"
      ]
     },
     "metadata": {},
     "output_type": "display_data"
    }
   ],
   "source": [
    "date = '2017-08-30'\n",
    "sample = list(df_raw.index[df_raw.date == date])\n",
    "actuals = [None] * len(sample)\n",
    "preds = [None] * len(sample)\n",
    "for index in sample:\n",
    "    actual = df_raw.Checkout_count.iloc[(index)]\n",
    "    pred = df_raw.Checkout_count.iloc[(index-(24*7))]\n",
    "    actuals.append(actual)\n",
    "    preds.append(pred)\n",
    "plt.plot(actuals)\n",
    "plt.plot(preds)    "
   ]
  },
  {
   "cell_type": "code",
   "execution_count": 178,
   "metadata": {},
   "outputs": [
    {
     "data": {
      "text/plain": [
       "12.949383056308774"
      ]
     },
     "execution_count": 178,
     "metadata": {},
     "output_type": "execute_result"
    }
   ],
   "source": [
    "# Sample from 1 day ago\n",
    "eval_naive(num_validation_samples, validation_gen, -24) * df.Checkout_count.std()"
   ]
  },
  {
   "cell_type": "code",
   "execution_count": 219,
   "metadata": {},
   "outputs": [
    {
     "data": {
      "text/plain": [
       "[<matplotlib.lines.Line2D at 0x15efa61d0>]"
      ]
     },
     "execution_count": 219,
     "metadata": {},
     "output_type": "execute_result"
    },
    {
     "data": {
      "image/png": "[encoded data removed]",
      "text/plain": [
       "<matplotlib.figure.Figure at 0x15eff7908>"
      ]
     },
     "metadata": {},
     "output_type": "display_data"
    }
   ],
   "source": [
    "date = '2017-08-30'\n",
    "sample = list(df_raw.index[df_raw.date == date])\n",
    "actuals = [None] * len(sample)\n",
    "preds = [None] * len(sample)\n",
    "for index in sample:\n",
    "    actual = df_raw.Checkout_count.iloc[(index)]\n",
    "    pred = df_raw.Checkout_count.iloc[(index-24)]\n",
    "    actuals.append(actual)\n",
    "    preds.append(pred)\n",
    "plt.plot(actuals)\n",
    "plt.plot(preds)   "
   ]
  },
  {
   "cell_type": "code",
   "execution_count": 223,
   "metadata": {
    "collapsed": true
   },
   "outputs": [],
   "source": [
    "model = Sequential()\n",
    "model.add(layers.Flatten(input_shape=((lookback + delay)// step, 15)))\n",
    "model.add(layers.Dense(32, activation='relu'))\n",
    "model.add(layers.Dense(1))"
   ]
  },
  {
   "cell_type": "code",
   "execution_count": 224,
   "metadata": {},
   "outputs": [
    {
     "name": "stdout",
     "output_type": "stream",
     "text": [
      "Epoch 1/20\n",
      "500/500 [==============================] - 11s 23ms/step - loss: 1.8273 - val_loss: 0.7279\n",
      "Epoch 2/20\n",
      "500/500 [==============================] - 7s 13ms/step - loss: 1.1154 - val_loss: 0.6185\n",
      "Epoch 3/20\n",
      "500/500 [==============================] - 7s 14ms/step - loss: 0.9845 - val_loss: 0.5689\n",
      "Epoch 4/20\n",
      "500/500 [==============================] - 7s 13ms/step - loss: 0.8220 - val_loss: 0.4866\n",
      "Epoch 5/20\n",
      "500/500 [==============================] - 7s 13ms/step - loss: 0.7095 - val_loss: 0.7922\n",
      "Epoch 6/20\n",
      "500/500 [==============================] - 7s 13ms/step - loss: 0.7732 - val_loss: 0.6557\n",
      "Epoch 7/20\n",
      "500/500 [==============================] - 7s 14ms/step - loss: 0.6884 - val_loss: 0.4292\n",
      "Epoch 8/20\n",
      "500/500 [==============================] - 7s 14ms/step - loss: 0.6447 - val_loss: 0.4683\n",
      "Epoch 9/20\n",
      "500/500 [==============================] - 7s 13ms/step - loss: 0.6591 - val_loss: 0.4390\n",
      "Epoch 10/20\n",
      "500/500 [==============================] - 7s 13ms/step - loss: 0.6477 - val_loss: 0.4748\n",
      "Epoch 11/20\n",
      "500/500 [==============================] - 7s 14ms/step - loss: 0.5730 - val_loss: 0.5675\n",
      "Epoch 12/20\n",
      "500/500 [==============================] - 7s 14ms/step - loss: 0.5967 - val_loss: 0.4239\n",
      "Epoch 13/20\n",
      "500/500 [==============================] - 7s 14ms/step - loss: 0.5904 - val_loss: 0.3944\n",
      "Epoch 14/20\n",
      "500/500 [==============================] - 7s 13ms/step - loss: 0.5443 - val_loss: 0.4638\n",
      "Epoch 15/20\n",
      "500/500 [==============================] - 7s 13ms/step - loss: 0.5484 - val_loss: 0.5011\n",
      "Epoch 16/20\n",
      "500/500 [==============================] - 7s 14ms/step - loss: 0.4983 - val_loss: 0.3755\n",
      "Epoch 17/20\n",
      "500/500 [==============================] - 7s 14ms/step - loss: 0.5157 - val_loss: 0.4974\n",
      "Epoch 18/20\n",
      "500/500 [==============================] - 7s 14ms/step - loss: 0.4737 - val_loss: 0.4081\n",
      "Epoch 19/20\n",
      "500/500 [==============================] - 7s 14ms/step - loss: 0.4669 - val_loss: 0.3538\n",
      "Epoch 20/20\n",
      "500/500 [==============================] - 7s 14ms/step - loss: 0.4565 - val_loss: 0.4012\n"
     ]
    }
   ],
   "source": [
    "model.compile(optimizer=RMSprop(),loss='mae')\n",
    "hist = model.fit_generator(training_gen,\n",
    "                          steps_per_epoch=500,\n",
    "                          epochs = 20,\n",
    "                          validation_data= validation_gen,\n",
    "                          validation_steps=num_validation_samples)"
   ]
  },
  {
   "cell_type": "code",
   "execution_count": 225,
   "metadata": {},
   "outputs": [
    {
     "data": {
      "image/png": "[encoded data removed]",
      "text/plain": [
       "<matplotlib.figure.Figure at 0x113656780>"
      ]
     },
     "metadata": {},
     "output_type": "display_data"
    }
   ],
   "source": [
    "loss = hist.history['loss']\n",
    "val_loss = hist.history['val_loss']\n",
    "epochs = range(1, len(loss) + 1)\n",
    "plt.figure()\n",
    "plt.plot(epochs, loss, 'bo', label='Training loss')\n",
    "plt.plot(epochs, val_loss, 'b', label='Validation loss')\n",
    "plt.title('Training and validation loss')\n",
    "plt.legend()\n",
    "plt.show()"
   ]
  },
  {
   "cell_type": "code",
   "execution_count": 227,
   "metadata": {
    "collapsed": true
   },
   "outputs": [],
   "source": [
    "model = Sequential()\n",
    "model.add(layers.GRU(32, input_shape=(None, 15)))\n",
    "model.add(layers.Dense(1))"
   ]
  },
  {
   "cell_type": "code",
   "execution_count": 229,
   "metadata": {},
   "outputs": [
    {
     "name": "stdout",
     "output_type": "stream",
     "text": [
      "Epoch 1/20\n",
      "500/500 [==============================] - 60s 119ms/step - loss: 0.3757 - val_loss: 0.3863\n",
      "Epoch 2/20\n",
      "500/500 [==============================] - 56s 112ms/step - loss: 0.3397 - val_loss: 0.3661\n",
      "Epoch 3/20\n",
      "500/500 [==============================] - 56s 112ms/step - loss: 0.3283 - val_loss: 0.3301\n",
      "Epoch 4/20\n",
      "500/500 [==============================] - 56s 112ms/step - loss: 0.3066 - val_loss: 0.3374\n",
      "Epoch 5/20\n",
      "500/500 [==============================] - 56s 112ms/step - loss: 0.2794 - val_loss: 0.2931\n",
      "Epoch 6/20\n",
      "500/500 [==============================] - 56s 112ms/step - loss: 0.2505 - val_loss: 0.2801\n",
      "Epoch 7/20\n",
      "500/500 [==============================] - 56s 111ms/step - loss: 0.2333 - val_loss: 0.2583\n",
      "Epoch 8/20\n",
      "500/500 [==============================] - 55s 111ms/step - loss: 0.2219 - val_loss: 0.2759\n",
      "Epoch 9/20\n",
      "500/500 [==============================] - 56s 112ms/step - loss: 0.2161 - val_loss: 0.2758\n",
      "Epoch 10/20\n",
      "500/500 [==============================] - 56s 112ms/step - loss: 0.2107 - val_loss: 0.2359\n",
      "Epoch 11/20\n",
      "500/500 [==============================] - 56s 112ms/step - loss: 0.2045 - val_loss: 0.2685\n",
      "Epoch 12/20\n",
      "500/500 [==============================] - 56s 112ms/step - loss: 0.2009 - val_loss: 0.2440\n",
      "Epoch 13/20\n",
      "500/500 [==============================] - 56s 112ms/step - loss: 0.1992 - val_loss: 0.2331\n",
      "Epoch 14/20\n",
      "500/500 [==============================] - 56s 113ms/step - loss: 0.1957 - val_loss: 0.2628\n",
      "Epoch 15/20\n",
      "500/500 [==============================] - 56s 112ms/step - loss: 0.1920 - val_loss: 0.2333\n",
      "Epoch 16/20\n",
      "500/500 [==============================] - 56s 112ms/step - loss: 0.1925 - val_loss: 0.2272\n",
      "Epoch 17/20\n",
      "500/500 [==============================] - 56s 112ms/step - loss: 0.1895 - val_loss: 0.2694\n",
      "Epoch 18/20\n",
      "500/500 [==============================] - 56s 112ms/step - loss: 0.1861 - val_loss: 0.2340\n",
      "Epoch 19/20\n",
      "500/500 [==============================] - 56s 113ms/step - loss: 0.1866 - val_loss: 0.2331\n",
      "Epoch 20/20\n",
      "500/500 [==============================] - 56s 112ms/step - loss: 0.1845 - val_loss: 0.2620\n"
     ]
    }
   ],
   "source": [
    "model.compile(optimizer=RMSprop(),loss='mae')\n",
    "hist = model.fit_generator(training_gen,\n",
    "                          steps_per_epoch=500,\n",
    "                          epochs = 20,\n",
    "                          validation_data= validation_gen,\n",
    "                          validation_steps=num_validation_samples)"
   ]
  },
  {
   "cell_type": "code",
   "execution_count": 231,
   "metadata": {},
   "outputs": [
    {
     "data": {
      "image/png": "[encoded data removed]",
      "text/plain": [
       "<matplotlib.figure.Figure at 0x160460ba8>"
      ]
     },
     "metadata": {},
     "output_type": "display_data"
    }
   ],
   "source": [
    "loss = hist.history['loss']\n",
    "val_loss = hist.history['val_loss']\n",
    "epochs = range(1, len(loss) + 1)\n",
    "plt.figure()\n",
    "plt.plot(epochs, loss, 'bo', label='Training loss')\n",
    "plt.plot(epochs, val_loss, 'b', label='Validation loss')\n",
    "plt.title('Training and validation loss')\n",
    "plt.legend()\n",
    "plt.show()"
   ]
  },
  {
   "cell_type": "code",
   "execution_count": 232,
   "metadata": {
    "collapsed": true
   },
   "outputs": [],
   "source": [
    "model = Sequential()\n",
    "model.add(layers.GRU(32,\n",
    "                     dropout=0.1,\n",
    "                     recurrent_dropout=0.5,\n",
    "                     return_sequences=True,\n",
    "                     input_shape=(None, 15)))\n",
    "model.add(layers.GRU(64, activation='relu',\n",
    "                    dropout=0.1,\n",
    "                    recurrent_dropout=0.5))\n",
    "model.add(layers.Dense(1))"
   ]
  },
  {
   "cell_type": "code",
   "execution_count": 233,
   "metadata": {},
   "outputs": [
    {
     "name": "stdout",
     "output_type": "stream",
     "text": [
      "Epoch 1/40\n",
      "500/500 [==============================] - 137s 275ms/step - loss: 0.4844 - val_loss: 0.3926\n",
      "Epoch 2/40\n",
      "500/500 [==============================] - 135s 270ms/step - loss: 0.4054 - val_loss: 0.3412\n",
      "Epoch 3/40\n",
      "500/500 [==============================] - 133s 266ms/step - loss: 0.3626 - val_loss: 0.3093\n",
      "Epoch 4/40\n",
      "500/500 [==============================] - 133s 266ms/step - loss: 0.3365 - val_loss: 0.3005\n",
      "Epoch 5/40\n",
      "500/500 [==============================] - 133s 266ms/step - loss: 0.3245 - val_loss: 0.2761\n",
      "Epoch 6/40\n",
      "500/500 [==============================] - 139s 278ms/step - loss: 0.3072 - val_loss: 0.2624\n",
      "Epoch 7/40\n",
      "500/500 [==============================] - 148s 296ms/step - loss: 0.2977 - val_loss: 0.2877\n",
      "Epoch 8/40\n",
      "500/500 [==============================] - 141s 281ms/step - loss: 0.2919 - val_loss: 0.2355\n",
      "Epoch 9/40\n",
      "500/500 [==============================] - 136s 272ms/step - loss: 0.2857 - val_loss: 0.2315\n",
      "Epoch 10/40\n",
      "500/500 [==============================] - 131s 261ms/step - loss: 0.2771 - val_loss: 0.2437\n",
      "Epoch 11/40\n",
      "500/500 [==============================] - 131s 263ms/step - loss: 0.2775 - val_loss: 0.2692\n",
      "Epoch 12/40\n",
      "500/500 [==============================] - 131s 262ms/step - loss: 0.2701 - val_loss: 0.2467\n",
      "Epoch 13/40\n",
      "500/500 [==============================] - 131s 263ms/step - loss: 0.2662 - val_loss: 0.3085\n",
      "Epoch 14/40\n",
      "500/500 [==============================] - 131s 263ms/step - loss: 0.2670 - val_loss: 0.3484\n",
      "Epoch 15/40\n",
      "500/500 [==============================] - 141s 281ms/step - loss: 0.2630 - val_loss: 0.2473\n",
      "Epoch 16/40\n",
      "500/500 [==============================] - 135s 270ms/step - loss: 0.2596 - val_loss: 0.3742\n",
      "Epoch 17/40\n",
      "500/500 [==============================] - 132s 264ms/step - loss: 0.2571 - val_loss: 0.3380\n",
      "Epoch 18/40\n",
      "500/500 [==============================] - 134s 268ms/step - loss: 0.2568 - val_loss: 0.2213\n",
      "Epoch 19/40\n",
      "500/500 [==============================] - 135s 270ms/step - loss: 0.2541 - val_loss: 0.3454\n",
      "Epoch 20/40\n",
      "500/500 [==============================] - 134s 268ms/step - loss: 0.2500 - val_loss: 0.2930\n",
      "Epoch 21/40\n",
      "500/500 [==============================] - 137s 274ms/step - loss: 0.2525 - val_loss: 0.2306\n",
      "Epoch 22/40\n",
      "500/500 [==============================] - 131s 263ms/step - loss: 0.2501 - val_loss: 0.2797\n",
      "Epoch 23/40\n",
      "500/500 [==============================] - 132s 264ms/step - loss: 0.2451 - val_loss: 0.2466\n",
      "Epoch 24/40\n",
      "500/500 [==============================] - 132s 264ms/step - loss: 0.2466 - val_loss: 0.2338\n",
      "Epoch 25/40\n",
      "500/500 [==============================] - 132s 263ms/step - loss: 0.2463 - val_loss: 0.2612\n",
      "Epoch 26/40\n",
      "500/500 [==============================] - 132s 263ms/step - loss: 0.2413 - val_loss: 0.2362\n",
      "Epoch 27/40\n",
      "500/500 [==============================] - 132s 263ms/step - loss: 0.2426 - val_loss: 0.2318\n",
      "Epoch 28/40\n",
      "500/500 [==============================] - 80987s 162s/step - loss: 0.2426 - val_loss: 0.2247\n",
      "Epoch 29/40\n",
      "500/500 [==============================] - 139s 279ms/step - loss: 0.2381 - val_loss: 0.2261\n",
      "Epoch 30/40\n",
      "500/500 [==============================] - 134s 269ms/step - loss: 0.2400 - val_loss: 0.2054\n",
      "Epoch 31/40\n",
      "500/500 [==============================] - 133s 265ms/step - loss: 0.2393 - val_loss: 0.2327\n",
      "Epoch 32/40\n",
      "500/500 [==============================] - 175s 350ms/step - loss: 0.2354 - val_loss: 0.2341\n",
      "Epoch 33/40\n",
      "500/500 [==============================] - 178s 355ms/step - loss: 0.2377 - val_loss: 0.2255\n",
      "Epoch 34/40\n",
      "500/500 [==============================] - 179s 357ms/step - loss: 0.2353 - val_loss: 0.2173\n",
      "Epoch 35/40\n",
      "500/500 [==============================] - 180s 359ms/step - loss: 0.2329 - val_loss: 0.2548\n",
      "Epoch 36/40\n",
      "500/500 [==============================] - 210s 420ms/step - loss: 0.2363 - val_loss: 0.2091\n",
      "Epoch 37/40\n",
      "500/500 [==============================] - 179s 358ms/step - loss: 0.2329 - val_loss: 0.2210\n",
      "Epoch 38/40\n",
      "500/500 [==============================] - 181s 361ms/step - loss: 0.2305 - val_loss: 0.2446\n",
      "Epoch 39/40\n",
      "500/500 [==============================] - 186s 372ms/step - loss: 0.2337 - val_loss: 0.2204\n",
      "Epoch 40/40\n",
      "500/500 [==============================] - 180s 359ms/step - loss: 0.2300 - val_loss: 0.2382\n"
     ]
    }
   ],
   "source": [
    "model.compile(optimizer=RMSprop(),loss='mae')\n",
    "hist = model.fit_generator(training_gen,\n",
    "                          steps_per_epoch=500,\n",
    "                          epochs = 40,\n",
    "                          validation_data= validation_gen,\n",
    "                          validation_steps=num_validation_samples)"
   ]
  },
  {
   "cell_type": "code",
   "execution_count": 234,
   "metadata": {},
   "outputs": [
    {
     "data": {
      "image/png": "[encoded data removed]",
      "text/plain": [
       "<matplotlib.figure.Figure at 0x167eb8898>"
      ]
     },
     "metadata": {},
     "output_type": "display_data"
    }
   ],
   "source": [
    "loss = hist.history['loss']\n",
    "val_loss = hist.history['val_loss']\n",
    "epochs = range(1, len(loss) + 1)\n",
    "plt.figure()\n",
    "plt.plot(epochs, loss, 'bo', label='Training loss')\n",
    "plt.plot(epochs, val_loss, 'b', label='Validation loss')\n",
    "plt.title('Training and validation loss')\n",
    "plt.legend()\n",
    "plt.show()"
   ]
  },
  {
   "cell_type": "code",
   "execution_count": 237,
   "metadata": {
    "collapsed": true
   },
   "outputs": [],
   "source": [
    "model = Sequential()\n",
    "model.add(layers.LSTM(32,\n",
    "                     dropout=0.1,\n",
    "                     recurrent_dropout=0.5,\n",
    "                     return_sequences=True,\n",
    "                     input_shape=(None, 15)))\n",
    "model.add(layers.GRU(64, activation='relu',\n",
    "                    dropout=0.1,\n",
    "                    recurrent_dropout=0.5))\n",
    "model.add(layers.Dense(1))"
   ]
  },
  {
   "cell_type": "code",
   "execution_count": 238,
   "metadata": {},
   "outputs": [
    {
     "name": "stdout",
     "output_type": "stream",
     "text": [
      "Epoch 1/40\n",
      "500/500 [==============================] - 229s 458ms/step - loss: 0.4926 - val_loss: 0.5106\n",
      "Epoch 2/40\n",
      "500/500 [==============================] - 213s 427ms/step - loss: 0.3785 - val_loss: 0.4589\n",
      "Epoch 3/40\n",
      "500/500 [==============================] - 208s 417ms/step - loss: 0.3394 - val_loss: 0.2686\n",
      "Epoch 4/40\n",
      "500/500 [==============================] - 210s 420ms/step - loss: 0.3126 - val_loss: 0.3643\n",
      "Epoch 5/40\n",
      "500/500 [==============================] - 205s 409ms/step - loss: 0.2925 - val_loss: 0.3246\n",
      "Epoch 6/40\n",
      "500/500 [==============================] - 210s 419ms/step - loss: 0.2832 - val_loss: 0.2439\n",
      "Epoch 7/40\n",
      "500/500 [==============================] - 202s 404ms/step - loss: 0.2759 - val_loss: 0.2991\n",
      "Epoch 8/40\n",
      "500/500 [==============================] - 202s 404ms/step - loss: 0.2647 - val_loss: 0.2476\n",
      "Epoch 9/40\n",
      "500/500 [==============================] - 202s 405ms/step - loss: 0.2609 - val_loss: 0.2221\n",
      "Epoch 10/40\n",
      "500/500 [==============================] - 208s 416ms/step - loss: 0.2558 - val_loss: 0.2731\n",
      "Epoch 11/40\n",
      "500/500 [==============================] - 202s 404ms/step - loss: 0.2508 - val_loss: 0.2419\n",
      "Epoch 12/40\n",
      "500/500 [==============================] - 202s 403ms/step - loss: 0.2482 - val_loss: 0.2080\n",
      "Epoch 13/40\n",
      "500/500 [==============================] - 202s 404ms/step - loss: 0.2450 - val_loss: 0.2179\n",
      "Epoch 14/40\n",
      "500/500 [==============================] - 203s 405ms/step - loss: 0.2405 - val_loss: 0.2454\n",
      "Epoch 15/40\n",
      "500/500 [==============================] - 203s 406ms/step - loss: 0.2395 - val_loss: 0.2162\n",
      "Epoch 16/40\n",
      "500/500 [==============================] - 206s 412ms/step - loss: 0.2387 - val_loss: 0.2273\n",
      "Epoch 17/40\n",
      "500/500 [==============================] - 206s 412ms/step - loss: 0.2327 - val_loss: 0.2387\n",
      "Epoch 18/40\n",
      "500/500 [==============================] - 206s 412ms/step - loss: 0.2347 - val_loss: 0.2036\n",
      "Epoch 19/40\n",
      "500/500 [==============================] - 211s 421ms/step - loss: 0.2319 - val_loss: 0.2215\n",
      "Epoch 20/40\n",
      "500/500 [==============================] - 209s 418ms/step - loss: 0.2273 - val_loss: 0.2516\n",
      "Epoch 21/40\n",
      "500/500 [==============================] - 205s 410ms/step - loss: 0.2306 - val_loss: 0.1989\n",
      "Epoch 22/40\n",
      "500/500 [==============================] - 203s 407ms/step - loss: 0.2267 - val_loss: 0.2271\n",
      "Epoch 23/40\n",
      "500/500 [==============================] - 204s 408ms/step - loss: 0.2253 - val_loss: 0.2675\n",
      "Epoch 24/40\n",
      "500/500 [==============================] - 204s 407ms/step - loss: 0.2269 - val_loss: 0.2088\n",
      "Epoch 25/40\n",
      "500/500 [==============================] - 203s 406ms/step - loss: 0.2247 - val_loss: 0.2246\n",
      "Epoch 26/40\n",
      "500/500 [==============================] - 204s 408ms/step - loss: 0.2214 - val_loss: 0.2551\n",
      "Epoch 27/40\n",
      "500/500 [==============================] - 204s 409ms/step - loss: 0.2250 - val_loss: 0.2027\n",
      "Epoch 28/40\n",
      "500/500 [==============================] - 203s 407ms/step - loss: 0.2232 - val_loss: 0.2163\n",
      "Epoch 29/40\n",
      "500/500 [==============================] - 203s 406ms/step - loss: 0.2196 - val_loss: 0.2313\n",
      "Epoch 30/40\n",
      "500/500 [==============================] - 203s 406ms/step - loss: 0.2231 - val_loss: 0.2192\n",
      "Epoch 31/40\n",
      "500/500 [==============================] - 204s 407ms/step - loss: 0.2184 - val_loss: 0.2357\n",
      "Epoch 32/40\n",
      "500/500 [==============================] - 202s 405ms/step - loss: 0.2182 - val_loss: 0.2359\n",
      "Epoch 33/40\n",
      "500/500 [==============================] - 204s 407ms/step - loss: 0.2188 - val_loss: 0.2209\n",
      "Epoch 34/40\n",
      "500/500 [==============================] - 202s 405ms/step - loss: 0.2182 - val_loss: 0.2090\n",
      "Epoch 35/40\n",
      "500/500 [==============================] - 202s 403ms/step - loss: 0.2166 - val_loss: 0.3062\n",
      "Epoch 36/40\n",
      "500/500 [==============================] - 202s 404ms/step - loss: 0.2157 - val_loss: 0.2203\n",
      "Epoch 37/40\n",
      "500/500 [==============================] - 194s 387ms/step - loss: 0.2178 - val_loss: 0.1996\n",
      "Epoch 38/40\n",
      "500/500 [==============================] - 140s 279ms/step - loss: 0.2151 - val_loss: 0.2932\n",
      "Epoch 39/40\n",
      "500/500 [==============================] - 141s 282ms/step - loss: 0.2133 - val_loss: 0.2207\n",
      "Epoch 40/40\n",
      "500/500 [==============================] - 139s 279ms/step - loss: 0.2161 - val_loss: 0.2063\n"
     ]
    }
   ],
   "source": [
    "model.compile(optimizer=RMSprop(),loss='mae')\n",
    "hist = model.fit_generator(training_gen,\n",
    "                          steps_per_epoch=500,\n",
    "                          epochs = 40,\n",
    "                          validation_data= validation_gen,\n",
    "                          validation_steps=num_validation_samples)"
   ]
  },
  {
   "cell_type": "code",
   "execution_count": 239,
   "metadata": {},
   "outputs": [
    {
     "data": {
      "image/png": "[encoded data removed]",
      "text/plain": [
       "<matplotlib.figure.Figure at 0x166208ac8>"
      ]
     },
     "metadata": {},
     "output_type": "display_data"
    }
   ],
   "source": [
    "loss = hist.history['loss']\n",
    "val_loss = hist.history['val_loss']\n",
    "epochs = range(1, len(loss) + 1)\n",
    "plt.figure()\n",
    "plt.plot(epochs, loss, 'bo', label='Training loss')\n",
    "plt.plot(epochs, val_loss, 'b', label='Validation loss')\n",
    "plt.title('Training and validation loss')\n",
    "plt.legend()\n",
    "plt.show()"
   ]
  },
  {
   "cell_type": "code",
   "execution_count": 240,
   "metadata": {
    "collapsed": true
   },
   "outputs": [],
   "source": [
    "model = Sequential()\n",
    "model.add(layers.LSTM(64,\n",
    "                     dropout=0.1,\n",
    "                     recurrent_dropout=0.5,\n",
    "                     return_sequences=True,\n",
    "                     input_shape=(None, 15)))\n",
    "model.add(layers.GRU(128, activation='relu',\n",
    "                    dropout=0.1,\n",
    "                    recurrent_dropout=0.5))\n",
    "model.add(layers.Dense(1))"
   ]
  },
  {
   "cell_type": "code",
   "execution_count": 241,
   "metadata": {},
   "outputs": [
    {
     "name": "stdout",
     "output_type": "stream",
     "text": [
      "Epoch 1/40\n",
      "500/500 [==============================] - 363s 726ms/step - loss: 0.4285 - val_loss: 0.3109\n",
      "Epoch 2/40\n",
      "500/500 [==============================] - 359s 718ms/step - loss: 0.3178 - val_loss: 0.2589\n",
      "Epoch 3/40\n",
      "500/500 [==============================] - 361s 722ms/step - loss: 0.2914 - val_loss: 0.2672\n",
      "Epoch 4/40\n",
      "500/500 [==============================] - 363s 726ms/step - loss: 0.2753 - val_loss: 0.2524\n",
      "Epoch 5/40\n",
      "500/500 [==============================] - 365s 731ms/step - loss: 0.2613 - val_loss: 0.2508\n",
      "Epoch 6/40\n",
      "500/500 [==============================] - 367s 734ms/step - loss: 0.2547 - val_loss: 0.2566\n",
      "Epoch 7/40\n",
      "500/500 [==============================] - 366s 732ms/step - loss: 0.2481 - val_loss: 0.2168\n",
      "Epoch 8/40\n",
      "500/500 [==============================] - 374s 747ms/step - loss: 0.2406 - val_loss: 0.2490\n",
      "Epoch 9/40\n",
      "500/500 [==============================] - 375s 751ms/step - loss: 0.2386 - val_loss: 0.2059\n",
      "Epoch 10/40\n",
      "500/500 [==============================] - 373s 746ms/step - loss: 0.2327 - val_loss: 0.2274\n",
      "Epoch 11/40\n",
      "500/500 [==============================] - 373s 746ms/step - loss: 0.2275 - val_loss: 0.2428\n",
      "Epoch 12/40\n",
      "500/500 [==============================] - 372s 744ms/step - loss: 0.2285 - val_loss: 0.1953\n",
      "Epoch 13/40\n",
      "500/500 [==============================] - 371s 743ms/step - loss: 0.2225 - val_loss: 0.2222\n",
      "Epoch 14/40\n",
      "500/500 [==============================] - 372s 745ms/step - loss: 0.2191 - val_loss: 0.2224\n",
      "Epoch 15/40\n",
      "500/500 [==============================] - 373s 746ms/step - loss: 0.2213 - val_loss: 0.1983\n",
      "Epoch 16/40\n",
      "500/500 [==============================] - 372s 743ms/step - loss: 0.2153 - val_loss: 0.2773\n",
      "Epoch 17/40\n",
      "500/500 [==============================] - 371s 743ms/step - loss: 0.2120 - val_loss: 0.2388\n",
      "Epoch 18/40\n",
      "500/500 [==============================] - 372s 745ms/step - loss: 0.2134 - val_loss: 0.2178\n",
      "Epoch 19/40\n",
      "500/500 [==============================] - 376s 751ms/step - loss: 0.2113 - val_loss: 0.2136\n",
      "Epoch 20/40\n",
      "500/500 [==============================] - 385s 769ms/step - loss: 0.2090 - val_loss: 0.2776\n",
      "Epoch 21/40\n",
      "500/500 [==============================] - 376s 753ms/step - loss: 0.2078 - val_loss: 0.2066\n",
      "Epoch 22/40\n",
      "500/500 [==============================] - 374s 749ms/step - loss: 0.2073 - val_loss: 0.2056\n",
      "Epoch 23/40\n",
      "500/500 [==============================] - 374s 749ms/step - loss: 0.2056 - val_loss: 0.2749\n",
      "Epoch 24/40\n",
      "500/500 [==============================] - 374s 747ms/step - loss: 0.2042 - val_loss: 0.2048\n",
      "Epoch 25/40\n",
      "500/500 [==============================] - 373s 747ms/step - loss: 0.2051 - val_loss: 0.1979\n",
      "Epoch 26/40\n",
      "500/500 [==============================] - 373s 747ms/step - loss: 0.2040 - val_loss: 0.2555\n",
      "Epoch 27/40\n",
      "500/500 [==============================] - 374s 748ms/step - loss: 0.2006 - val_loss: 0.2175\n",
      "Epoch 28/40\n",
      "500/500 [==============================] - 372s 745ms/step - loss: 0.2022 - val_loss: 0.1974\n",
      "Epoch 29/40\n",
      "500/500 [==============================] - 374s 747ms/step - loss: 0.2000 - val_loss: 0.2663\n",
      "Epoch 30/40\n",
      "500/500 [==============================] - 376s 752ms/step - loss: 0.1973 - val_loss: 0.2509\n",
      "Epoch 31/40\n",
      "500/500 [==============================] - 381s 763ms/step - loss: 0.1987 - val_loss: 0.2017\n",
      "Epoch 32/40\n",
      "500/500 [==============================] - 379s 758ms/step - loss: 0.1986 - val_loss: 0.2643\n",
      "Epoch 33/40\n",
      "500/500 [==============================] - 375s 751ms/step - loss: 0.1955 - val_loss: 0.2412\n",
      "Epoch 34/40\n",
      "500/500 [==============================] - 376s 753ms/step - loss: 0.1968 - val_loss: 0.1979\n",
      "Epoch 35/40\n",
      "500/500 [==============================] - 375s 749ms/step - loss: 0.1961 - val_loss: 0.2163\n",
      "Epoch 36/40\n",
      "500/500 [==============================] - 374s 748ms/step - loss: 0.1939 - val_loss: 0.2271\n",
      "Epoch 37/40\n",
      "500/500 [==============================] - 374s 747ms/step - loss: 0.1958 - val_loss: 0.2084\n",
      "Epoch 38/40\n",
      "500/500 [==============================] - 375s 749ms/step - loss: 0.1939 - val_loss: 0.2277\n",
      "Epoch 39/40\n",
      "500/500 [==============================] - 374s 747ms/step - loss: 0.1925 - val_loss: 0.2496\n",
      "Epoch 40/40\n",
      "500/500 [==============================] - 375s 749ms/step - loss: 0.1947 - val_loss: 0.2116\n"
     ]
    }
   ],
   "source": [
    "model.compile(optimizer=RMSprop(),loss='mae')\n",
    "hist = model.fit_generator(training_gen,\n",
    "                          steps_per_epoch=500,\n",
    "                          epochs = 40,\n",
    "                          validation_data= validation_gen,\n",
    "                          validation_steps=num_validation_samples)"
   ]
  },
  {
   "cell_type": "code",
   "execution_count": 242,
   "metadata": {},
   "outputs": [
    {
     "data": {
      "image/png": "[encoded data removed]",
      "text/plain": [
       "<matplotlib.figure.Figure at 0x15f42eac8>"
      ]
     },
     "metadata": {},
     "output_type": "display_data"
    }
   ],
   "source": [
    "loss = hist.history['loss']\n",
    "val_loss = hist.history['val_loss']\n",
    "epochs = range(1, len(loss) + 1)\n",
    "plt.figure()\n",
    "plt.plot(epochs, loss, 'bo', label='Training loss')\n",
    "plt.plot(epochs, val_loss, 'b', label='Validation loss')\n",
    "plt.title('Training and validation loss')\n",
    "plt.legend()\n",
    "plt.show()"
   ]
  },
  {
   "cell_type": "code",
   "execution_count": 243,
   "metadata": {
    "collapsed": true
   },
   "outputs": [],
   "source": [
    "model = Sequential()\n",
    "model.add(layers.LSTM(32,\n",
    "                      input_shape=(None, 15)))\n",
    "model.add(layers.Dense(1))"
   ]
  },
  {
   "cell_type": "code",
   "execution_count": 244,
   "metadata": {},
   "outputs": [
    {
     "name": "stdout",
     "output_type": "stream",
     "text": [
      "Epoch 1/20\n",
      "500/500 [==============================] - 73s 146ms/step - loss: 0.4489 - val_loss: 0.3907\n",
      "Epoch 2/20\n",
      "500/500 [==============================] - 68s 136ms/step - loss: 0.3207 - val_loss: 0.3403\n",
      "Epoch 3/20\n",
      "500/500 [==============================] - 67s 135ms/step - loss: 0.2818 - val_loss: 0.2781\n",
      "Epoch 4/20\n",
      "500/500 [==============================] - 67s 135ms/step - loss: 0.2447 - val_loss: 0.2715\n",
      "Epoch 5/20\n",
      "500/500 [==============================] - 68s 135ms/step - loss: 0.2222 - val_loss: 0.2968\n",
      "Epoch 6/20\n",
      "500/500 [==============================] - 68s 135ms/step - loss: 0.2136 - val_loss: 0.2444\n",
      "Epoch 7/20\n",
      "500/500 [==============================] - 67s 135ms/step - loss: 0.2080 - val_loss: 0.2409\n",
      "Epoch 8/20\n",
      "500/500 [==============================] - 67s 134ms/step - loss: 0.2020 - val_loss: 0.3068\n",
      "Epoch 9/20\n",
      "500/500 [==============================] - 67s 134ms/step - loss: 0.1988 - val_loss: 0.2275\n",
      "Epoch 10/20\n",
      "500/500 [==============================] - 67s 134ms/step - loss: 0.1974 - val_loss: 0.2253\n",
      "Epoch 11/20\n",
      "500/500 [==============================] - 68s 135ms/step - loss: 0.1927 - val_loss: 0.2768\n",
      "Epoch 12/20\n",
      "500/500 [==============================] - 67s 134ms/step - loss: 0.1896 - val_loss: 0.2339\n",
      "Epoch 13/20\n",
      "500/500 [==============================] - 67s 134ms/step - loss: 0.1905 - val_loss: 0.2212\n",
      "Epoch 14/20\n",
      "500/500 [==============================] - 68s 136ms/step - loss: 0.1865 - val_loss: 0.2574\n",
      "Epoch 15/20\n",
      "500/500 [==============================] - 68s 135ms/step - loss: 0.1836 - val_loss: 0.2347\n",
      "Epoch 16/20\n",
      "500/500 [==============================] - 68s 136ms/step - loss: 0.1843 - val_loss: 0.2234\n",
      "Epoch 17/20\n",
      "500/500 [==============================] - 68s 136ms/step - loss: 0.1814 - val_loss: 0.2680\n",
      "Epoch 18/20\n",
      "500/500 [==============================] - 68s 136ms/step - loss: 0.1779 - val_loss: 0.2438\n",
      "Epoch 19/20\n",
      "500/500 [==============================] - 68s 136ms/step - loss: 0.1792 - val_loss: 0.2296\n",
      "Epoch 20/20\n",
      "500/500 [==============================] - 67s 134ms/step - loss: 0.1766 - val_loss: 0.2617\n"
     ]
    }
   ],
   "source": [
    "model.compile(optimizer=RMSprop(),loss='mae')\n",
    "hist = model.fit_generator(training_gen,\n",
    "                          steps_per_epoch=500,\n",
    "                          epochs = 20,\n",
    "                          validation_data= validation_gen,\n",
    "                          validation_steps=num_validation_samples)"
   ]
  },
  {
   "cell_type": "code",
   "execution_count": 245,
   "metadata": {},
   "outputs": [
    {
     "data": {
      "image/png": "[encoded data removed]",
      "text/plain": [
       "<matplotlib.figure.Figure at 0x16c9b0e48>"
      ]
     },
     "metadata": {},
     "output_type": "display_data"
    }
   ],
   "source": [
    "loss = hist.history['loss']\n",
    "val_loss = hist.history['val_loss']\n",
    "epochs = range(1, len(loss) + 1)\n",
    "plt.figure()\n",
    "plt.plot(epochs, loss, 'bo', label='Training loss')\n",
    "plt.plot(epochs, val_loss, 'b', label='Validation loss')\n",
    "plt.title('Training and validation loss')\n",
    "plt.legend()\n",
    "plt.show()"
   ]
  },
  {
   "cell_type": "code",
   "execution_count": null,
   "metadata": {
    "collapsed": true
   },
   "outputs": [],
   "source": []
  },
  {
   "cell_type": "code",
   "execution_count": null,
   "metadata": {
    "collapsed": true
   },
   "outputs": [],
   "source": []
  },
  {
   "cell_type": "code",
   "execution_count": null,
   "metadata": {
    "collapsed": true
   },
   "outputs": [],
   "source": []
  },
  {
   "cell_type": "code",
   "execution_count": null,
   "metadata": {
    "collapsed": true
   },
   "outputs": [],
   "source": []
  },
  {
   "cell_type": "code",
   "execution_count": null,
   "metadata": {
    "collapsed": true
   },
   "outputs": [],
   "source": []
  },
  {
   "cell_type": "code",
   "execution_count": null,
   "metadata": {
    "collapsed": true
   },
   "outputs": [],
   "source": []
  }
 ],
 "metadata": {
  "kernelspec": {
   "display_name": "tensorflow",
   "language": "python",
   "name": "tensorflow"
  },
  "language_info": {
   "codemirror_mode": {
    "name": "ipython",
    "version": 3
   },
   "file_extension": ".py",
   "mimetype": "text/x-python",
   "name": "python",
   "nbconvert_exporter": "python",
   "pygments_lexer": "ipython3",
   "version": "3.6.5"
  }
 },
 "nbformat": 4,
 "nbformat_minor": 2
}
